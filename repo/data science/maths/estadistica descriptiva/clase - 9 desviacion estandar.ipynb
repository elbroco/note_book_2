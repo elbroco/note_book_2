{
 "cells": [
  {
   "cell_type": "markdown",
   "metadata": {},
   "source": [
    "Desviación estándar\n",
    "La desviación estándar es la medida de dispersión más común, que indica qué tan dispersos están los datos con respecto a la media. Mientras mayor sea la desviación estándar, mayor será la dispersión de los datos. El símbolo σ (sigma) se utiliza frecuentemente para representar la desviación estándar de una población, mientras que s se utiliza para representar la desviación estándar de una muestra. La desviación estándar se puede utilizar para establecer un valor de referencia para estimar la variación general de un proceso.\n",
    "\n",
    ".\n",
    "\n",
    "Solo para aclarar, ya que el termino de varianza se abordo muy rápidamente:\n",
    ".\n",
    "\n",
    "Varianza: es una medida de dispersión que representa la variabilidad de una serie de datos respecto a su media. Formalmente se calcula como la suma de los residuos al cuadrado divididos entre el total de observaciones. Su fórmula es la siguiente:\n",
    "X → Variable sobre la que se pretenden calcular la varianza\n",
    "xi → Observación número i de la variable X. i puede tomará valores entre 1 y n.\n",
    "N → Número de observaciones.\n",
    "x̄ → Es la media de la variable X.\n",
    "La diferencia entre la desviación estándar o típica y la varianza, es que la la desviación típica es la raíz cuadrada de la varianza . Y no nos podemos olvidar de otra medida de dispersión muy importante, que es el coeficiente de variación:\n",
    "\n",
    "Su cálculo se obtiene de dividir la desviación típica entre el valor absoluto de la media del conjunto y por lo general se expresa en porcentaje para su mejor comprensión.\n",
    "\n",
    "X → Variable sobre la que se pretenden calcular la varianza\n",
    "σx → Desviación típica de la variable X.\n",
    "| x̄ | → Es la media de la variable X en valor absoluto con x̄ ≠ 0\n",
    "El coeficiente de variación de utiliza para comparar la dispersión (variación) de conjuntos de datos de medidas diferentes o con medias aritméticas diferentes.\n",
    "\n",
    "https://static.platzi.com/media/user_upload/1-f0dfd917-305a-4aed-8ee2-18bc7f8a46ab.jpg\n",
    "\n",
    "https://static.platzi.com/media/user_upload/2-88a2a9f3-eb76-4238-9d17-663690c029c1.jpg\n",
    "\n",
    "https://static.platzi.com/media/user_upload/3-2d277be8-3cb6-4a0e-b387-e2bcaf82cbfb.jpg\n",
    "\n"
   ]
  },
  {
   "cell_type": "markdown",
   "metadata": {},
   "source": [
    "Asimetría en distribuciones\n",
    "Como vimos en la clase, el hecho de que nuestra distribución tenga una tendencia a la derecha o a izquierda nos representa un problema, ya que no a acorde con una distribución y eso puede afectar a nuestros análisis si no tomamos en cuenta ese sesgo. No siempre hay que confiar en nuestra intuición o lo que vemos a simple vista, hay métodos como:\n",
    "\n",
    "Primer coeficiente de asimetría de Pearson (asimetría de modo)\n",
    "Segundo coeficiente de asimetría de Pearson (asimetría mediana)\n",
    "Coeficiente de Groeneveld y Meeden\n",
    "Coeficiente de Fisher\n",
    "Por mencionar algunos. .\n",
    "\n",
    "Y por último, no hay que olvidar la curtosis:\n",
    "Una curtosis grande implica una mayor concentración de valores de la variable tanto muy cerca de la media de la distribución (pico) como muy lejos de ella (colas), al tiempo que existe una relativamente menor frecuencia de valores intermedios. Esto explica una forma de la distribución de frecuencias/probabilidad con colas más gruesas, con un centro más apuntado y una menor proporción de valores intermedios entre el pico y colas. Una mayor curtosis no implica una mayor varianza, ni viceversa."
   ]
  },
  {
   "cell_type": "markdown",
   "metadata": {},
   "source": [
    "data to viz\n",
    "\n",
    "catalogo de graficos\n",
    "\n",
    "Esta plataforma https://www.data-to-viz.com/ también está genial para seleccionar visualizaciones. Además, vienen los códigos de Python y R necesarios para llevarlos a cabo."
   ]
  },
  {
   "cell_type": "markdown",
   "metadata": {},
   "source": [
    "coeficiente de correlacion\n",
    "\n",
    "Si desean profundizar sobre la definicion del coeficiente de correlacion, les recomiendo leer a partir de la pagina 147 de este libro: https://cims.nyu.edu/~cfgranda/pages/stuff/probability_stats_for_DS.pdf"
   ]
  },
  {
   "cell_type": "markdown",
   "metadata": {},
   "source": []
  }
 ],
 "metadata": {
  "deepnote": {
   "is_reactive": false
  },
  "deepnote_execution_queue": [],
  "deepnote_notebook_id": "0cb6ba8f-ae94-443e-a494-c94782fd00d2",
  "language_info": {
   "name": "python"
  },
  "orig_nbformat": 2
 },
 "nbformat": 4,
 "nbformat_minor": 2
}
