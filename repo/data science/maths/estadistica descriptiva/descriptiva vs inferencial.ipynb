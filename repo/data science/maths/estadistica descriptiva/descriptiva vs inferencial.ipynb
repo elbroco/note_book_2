{
 "cells": [
  {
   "cell_type": "markdown",
   "metadata": {},
   "source": [
    "https://deepnote.com/app/anthonymanotoa/Apuntes-de-Estadistica-Descriptiva-cfa882b6-c07f-43fe-9901-1c2e471ce120\n",
    "\n",
    "Estadística descriptiva vs. inferencial\n",
    "Es importante entender la diferencia entre las dos principales ramas de la estadística en el area de las matemáticas:\n",
    "\n",
    "Estadística descriptiva: Se trata de resumir información de manera cuantitativa para entender de forma sencilla y concreta sobre algún determinado asunto\n",
    "\n",
    "Estadística inferencia: Se basa en realizar inferencias, deducir que podría pasar en el futuro en base a lo datos que tenemos acceso en la actualidad\n",
    "\n",
    "¿Puede mentir la estadística?\n",
    "\n",
    "La estadística descriptiva tiene un problema al momento de definir que métrica es la que nos va a brindar la mayor relevancia para nuestro estudio.\n",
    "\n",
    "El resultado podría estar sesgado a nuestro criterio personal, mostrando mayor interés a un cierto parámetro. dejando de lado a otro que también podría ser relevante. Mostramos solo una cara de la moneda.\n",
    "No existen definiciones objetivas en estadística, sin embargo sobre estas definiciones podemos realizar cálculos exactos lo cual es un problema\n",
    "Los diferentes estadísticos descriptivos dan nociones diferentes sobre los mismos datos.\n",
    "¿Por que aprender estadística?\n",
    "\n",
    "A pesar de los problemas que pueda presentar es muy importante entender que la estadística nos puede ayudar a:\n",
    "\n",
    "Resumir grandes cantidades de información\n",
    "tomar mejores decisiones\n",
    "responder preguntas con relevancia social\n",
    "reconocer patrones en los datos\n",
    "descubrir a quien usan estas herramientas con fines nefastos"
   ]
  }
 ],
 "metadata": {
  "language_info": {
   "name": "python"
  }
 },
 "nbformat": 4,
 "nbformat_minor": 2
}
