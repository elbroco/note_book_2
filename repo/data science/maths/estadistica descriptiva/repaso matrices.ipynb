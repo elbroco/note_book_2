{
 "cells": [
  {
   "cell_type": "markdown",
   "metadata": {},
   "source": [
    "Medidas de dispersión\n",
    "Rango: El Rango es el intervalo entre el valor máximo y el valor mínimo.\n",
    "\n",
    "Cuartiles: Los cuartiles son valores que dividen una muestra de datos en cuatro partes iguales.\n",
    "\n",
    "1er cuartil (Q1): 25% de los datos es menor que o igual a este valor.\n",
    "2do cuartil (Q2): La mediana. 50% de los datos es menor que o igual a este valor.\n",
    "3er cuartil (Q3): 75% de los datos es menor que o igual a este valor.\n",
    "\n",
    "Rango intercuartil: La distancia entre el primer 1er cuartil y el 3er cuartil (Q3-Q1); de esta manera, abarca el 50% central de los datos.\n",
    "\n",
    "Diagrama de caja o box plot: representa gráficamente una serie de datos numéricos a través de sus cuartiles. De esta manera, el diagrama de caja muestra a simple vista la mediana y los cuartiles de los datos. También puede representar los valores atípicos de estos."
   ]
  }
 ],
 "metadata": {
  "deepnote": {
   "is_reactive": false
  },
  "deepnote_execution_queue": [],
  "deepnote_notebook_id": "0cb6ba8f-ae94-443e-a494-c94782fd00d2",
  "language_info": {
   "name": "python"
  },
  "orig_nbformat": 2
 },
 "nbformat": 4,
 "nbformat_minor": 2
}
