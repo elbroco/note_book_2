{
 "cells": [
  {
   "cell_type": "code",
   "execution_count": null,
   "metadata": {},
   "outputs": [],
   "source": [
    "https://deepnote.com/app/anthonymanotoa/Apuntes-de-Algebra-Lineal-con-Python-bf71a544-4b58-430c-9e81-79153c6ef73d"
   ]
  }
 ],
 "metadata": {
  "language_info": {
   "name": "python"
  }
 },
 "nbformat": 4,
 "nbformat_minor": 2
}
