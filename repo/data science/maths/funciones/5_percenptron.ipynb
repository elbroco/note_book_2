{
  "cells": [
    {
      "cell_type": "markdown",
      "metadata": {},
      "source": [
        "Señales de entrada: se asemejan a lo que en la vida real son los impulsos eléctricos.\n",
        " En la práctica representa características de lo que estamos modelando.\n",
        "\n",
        "Pesos sinápticos: define la importancia de las señales de entrada mediante\n",
        " la asignación de una ponderación.\n",
        "\n",
        "Unión sumadora: suma los resultados de las multiplicaciones entre las señales\n",
        " de entrada y los pesos sinópticos. Es una combinación lineal.\n",
        "\n",
        "Función de activación: recibe la combinación lineal anterior para\n",
        " definir la salida de la neurona.\n",
        "\n",
        "https://static.platzi.com/media/user_upload/graph17-94fef828-7f79-4990-a209-3677e535259d.jpg\n",
        "\n",
        "\n",
        " https://youtu.be/MRIv2IwFTPg?list=PL-Ogd76BhmcB9OjPucsnc2-piEE96jJDQ"
      ]
    }
  ],
  "metadata": {
    "colab": {
      "provenance": []
    },
    "kernelspec": {
      "display_name": "Python 3",
      "name": "python3"
    }
  },
  "nbformat": 4,
  "nbformat_minor": 0
}
