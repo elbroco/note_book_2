{
 "cells": [
  {
   "cell_type": "code",
   "execution_count": null,
   "metadata": {},
   "outputs": [],
   "source": [
    "https://deepnote.com/app/angeltafur/Matematicas-Data-Science-Probabilidad-483642c8-6516-4d38-ae24-1cc7083f43a4"
   ]
  },
  {
   "cell_type": "markdown",
   "metadata": {},
   "source": [
    "Correlación entre sucesos: Decimos que dos sucesos están correlacionados si la ocurrencia de uno varía difectamente sobre la probabilidad del otro, pueden ser:\n",
    "\n",
    "Correlación positiva: la ocurrencia de un suceso incrementa la probabilidad de ocurrencia del otro\n",
    "Correlación negativa: la ocurrencia de un suceso disminuye la probabilidad de ocurrencia del otro\n",
    "Nota:\n",
    "\n",
    "Dos elementos excluyentes no son independientes, todo lo contrario tienen correlación negativa"
   ]
  }
 ],
 "metadata": {
  "language_info": {
   "name": "python"
  }
 },
 "nbformat": 4,
 "nbformat_minor": 2
}
