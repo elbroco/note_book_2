{
 "cells": [
  {
   "cell_type": "code",
   "execution_count": null,
   "metadata": {},
   "outputs": [],
   "source": []
  },
  {
   "cell_type": "markdown",
   "metadata": {},
   "source": [
    "https://deepnote.com/app/mazzaroli/Analisis-exploratorio-de-datos-caba7762-e435-481e-9060-523263a820b1\n",
    "\n",
    "https://deepnote.com/app/jvelezmagic/Curso-EDA-Communication-c92bae1e-ca3b-47c5-b028-6a9a99949ed3\n",
    "\n",
    "https://deepnote.com/workspace/Jes%C3%BAs%20V%C3%A9lez%20Santiago-93d62bec-d8ef-4483-b1f6-dc606aa0eefd/project/Curso-EDA-Communication-c92bae1e-ca3b-47c5-b028-6a9a99949ed3/notebook/1.0-jvelezmagic-conociendo-nuestros-datos-1a3b6049fa8c40ff989e9568341699fb"
   ]
  }
 ],
 "metadata": {
  "language_info": {
   "name": "python"
  }
 },
 "nbformat": 4,
 "nbformat_minor": 2
}
