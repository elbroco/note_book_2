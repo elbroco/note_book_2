{
 "cells": [
  {
   "cell_type": "code",
   "execution_count": null,
   "metadata": {},
   "outputs": [],
   "source": [
    "Existen diferentes formas de fusionar dos DataFrames. Esto se hace a través de la lógica de combinación como se muestra a continuación:\n",
    "Merge-join\n",
    "\n",
    "https://static.platzi.com/media/user_upload/merge-ab0ffccb-3ec3-44f5-94a7-c96896993212.jpg\n",
    "\n",
    "Left join: Da prioridad al DataFrame de la izquierda. Trae siempre los datos de la izquierda y las filas en común con el DataFrame de la derecha.\n",
    "Right join: Da prioridad al DataFrame de la derecha. Trae siempre los datos de la derecha y las filas en común con el DataFrame de la izquierda.\n",
    "Inner join: Trae solamente aquellos datos que son común en ambos DataFrame\n",
    "Outer join: Trae los datos tanto del DataFrame de la izquierda como el de la derecha, incluyendo los datos que comparten ambos.\n",
    "description\n",
    "\n",
    "https://static.platzi.com/media/user_upload/joins-8b86441a-ee83-4c5c-940d-4b391f6c3d6c.jpg"
   ]
  }
 ],
 "metadata": {
  "language_info": {
   "name": "python"
  }
 },
 "nbformat": 4,
 "nbformat_minor": 2
}
