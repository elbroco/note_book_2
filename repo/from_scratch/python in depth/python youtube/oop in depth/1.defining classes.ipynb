{
 "cells": [
  {
   "cell_type": "code",
   "execution_count": 1,
   "metadata": {},
   "outputs": [
    {
     "name": "stdout",
     "output_type": "stream",
     "text": [
      "the speed is: 110\n"
     ]
    }
   ],
   "source": [
    "class my_class():\n",
    "    \n",
    "    def __init__(self,parameter1,parameter2):\n",
    "        \n",
    "        self.property1 = parameter1\n",
    "        self.property2 = parameter2\n",
    "        \n",
    "    def drive(self):\n",
    "        x = self.property1 + self.property2\n",
    "        \n",
    "        print('the speed is:', x)\n",
    "        \n",
    "car = my_class(50,60)\n",
    "car.drive()\n",
    "        \n",
    "\n"
   ]
  },
  {
   "cell_type": "code",
   "execution_count": 2,
   "metadata": {},
   "outputs": [
    {
     "name": "stdout",
     "output_type": "stream",
     "text": [
      "welcome owner\n",
      "Your storage is: 256\n",
      "updated storage. 306\n",
      "\n",
      "you are not a user\n",
      "you still have 93 spaces open\n"
     ]
    }
   ],
   "source": [
    "class App():\n",
    "    \n",
    "    def __init__(self,users,storage,username):\n",
    "        \n",
    "        self.users = users\n",
    "        self.storage = storage\n",
    "        self.username = username\n",
    "        \n",
    "    def login(self):\n",
    "        \n",
    "        if self.username == 'owner' and self.users >= 1:\n",
    "            print('welcome', self.username)\n",
    "            print('Your storage is:', self.storage)\n",
    "        \n",
    "        else: \n",
    "            print('you are not a user')\n",
    "            \n",
    "    def increase_capacity(self,number):\n",
    "        \n",
    "        self.storage += number\n",
    "        print('updated storage.', self.storage)\n",
    "    \n",
    "    def check_upgrade(self):\n",
    "        if self.users >= self.storage:\n",
    "            upgrade_amt = int(input('upgrade amount: '))\n",
    "            self.storage += upgrade_amt\n",
    "        else:\n",
    "            print('you still have',str(self.storage - self.users), 'spaces open')\n",
    "    \n",
    "    \n",
    "product_one = App(35,256,'owner')\n",
    "product_one.login()\n",
    "product_one.increase_capacity(50)\n",
    "\n",
    "print('')\n",
    "\n",
    "product_two = App(35,128,'josh')\n",
    "product_two.login()\n",
    "product_two.check_upgrade()\n",
    "\n",
    "    \n",
    "        "
   ]
  },
  {
   "cell_type": "code",
   "execution_count": 3,
   "metadata": {},
   "outputs": [
    {
     "name": "stdout",
     "output_type": "stream",
     "text": [
      "Welcome, owner\n",
      "Your storage is: 256\n",
      "Your updated storage is: 306\n",
      "\n",
      "Login denied\n"
     ]
    }
   ],
   "source": [
    "class App():\n",
    "    \n",
    "    def __init__(self, users, username, storage):\n",
    "        self.users = users  # Assuming this is meant to store the number of users\n",
    "        self.username = username\n",
    "        self.storage = storage\n",
    "         \n",
    "    \n",
    "    def login(self):\n",
    "        if self.username == 'owner' and self.users >= 1:\n",
    "            print('Welcome,', self.username)\n",
    "            print('Your storage is:', self.storage)\n",
    "        else:\n",
    "            print('Login denied')\n",
    "        \n",
    "    def increase_capacity(self, number):\n",
    "\n",
    "        self.storage += number\n",
    "        print('Your updated storage is:', self.storage)\n",
    "        \n",
    "        \n",
    "product_one = App(1, 'owner', 256)\n",
    "product_one.login()\n",
    "product_one.increase_capacity(50)\n",
    "\n",
    "print('')\n",
    "\n",
    "product_two = App(35, 'josh', 128)\n",
    "product_two.login()\n"
   ]
  },
  {
   "cell_type": "code",
   "execution_count": 5,
   "metadata": {},
   "outputs": [
    {
     "name": "stdout",
     "output_type": "stream",
     "text": [
      "the average grade is: 85.0\n",
      "jhon has been enrolled in the python course\n",
      "course: python\n",
      "instructor name: python\n",
      "enrolled students: jhon\n",
      "josh is not enrolled in this course\n"
     ]
    }
   ],
   "source": [
    "class OnlineCourse:\n",
    "    def __init__(self, course, instructor):\n",
    "        self.course = course\n",
    "        self.instructor = instructor\n",
    "        self.students = []\n",
    "        \n",
    "    def enroll_students(self, name):\n",
    "        self.students.append(name)\n",
    "        print(f'{name} has been enrolled in the {self.course} course')\n",
    "        \n",
    "    def course_details(self):\n",
    "        print(f'course: {self.course}')\n",
    "        print(f'instructor name: {self.instructor}')\n",
    "        print(f'enrolled students: {\", \".join(self.students)}')\n",
    "        \n",
    "    def completed_course(self, name):\n",
    "        if name in self.students:\n",
    "            self.students.remove(name)\n",
    "            print(f'{name} has completed the course')\n",
    "        else:\n",
    "            print(f'{name} is not enrolled in this course')\n",
    "            \n",
    "    def avg_grade(self, grades):\n",
    "        total = sum(grades)\n",
    "        average = total / len(grades)\n",
    "        print(f'the average grade is: {average}')\n",
    "\n",
    "\n",
    "        \n",
    "class Student\n",
    " def __init__(self, name, grades):\n",
    "     self.name = name\n",
    "     self.grades = grades\n",
    "     \n",
    "\n",
    "course_input = input('Enter a course: ').lower()\n",
    "name_input = input('Enter an instructor: ').lower()\n",
    "course = OnlineCourse(course_input, name_input)\n",
    "\n",
    "num_students = int(input('enter number of students: '))\n",
    "\n",
    "for _ in range(3):\n",
    "    student_name = input('enter a student name: ').lower()\n",
    "    grades = []\n",
    "    for _ in range(3):\n",
    "        grade = int('enter a grade: ')\n",
    "        grades.append(grade)\n",
    "    student = Student(student_name, grades)\n",
    "    course.enroll_students(students)\n"
   ]
  },
  {
   "cell_type": "code",
   "execution_count": 2,
   "metadata": {},
   "outputs": [
    {
     "name": "stdout",
     "output_type": "stream",
     "text": [
      "You are going to Usa in winter! This is a L trip!\n"
     ]
    },
    {
     "ename": "UnboundLocalError",
     "evalue": "cannot access local variable 'cost' where it is not associated with a value",
     "output_type": "error",
     "traceback": [
      "\u001b[1;31m---------------------------------------------------------------------------\u001b[0m",
      "\u001b[1;31mUnboundLocalError\u001b[0m                         Traceback (most recent call last)",
      "Cell \u001b[1;32mIn[2], line 62\u001b[0m\n\u001b[0;32m     59\u001b[0m test\u001b[38;5;241m.\u001b[39mtrip_info()\n\u001b[0;32m     61\u001b[0m flight_cost \u001b[38;5;241m=\u001b[39m \u001b[38;5;28mint\u001b[39m(\u001b[38;5;28minput\u001b[39m(\u001b[38;5;124m'\u001b[39m\u001b[38;5;124mEnter flight cost: \u001b[39m\u001b[38;5;124m'\u001b[39m))\n\u001b[1;32m---> 62\u001b[0m advice, inspect \u001b[38;5;241m=\u001b[39m \u001b[43mtest\u001b[49m\u001b[38;5;241;43m.\u001b[39;49m\u001b[43mcal_cost\u001b[49m\u001b[43m(\u001b[49m\u001b[43mflight_cost\u001b[49m\u001b[43m)\u001b[49m\n\u001b[0;32m     64\u001b[0m \u001b[38;5;28mprint\u001b[39m(\u001b[38;5;124mf\u001b[39m\u001b[38;5;124m'\u001b[39m\u001b[38;5;124mAdvice: \u001b[39m\u001b[38;5;132;01m{\u001b[39;00madvice\u001b[38;5;132;01m}\u001b[39;00m\u001b[38;5;124m'\u001b[39m)\n\u001b[0;32m     65\u001b[0m \u001b[38;5;28mprint\u001b[39m(\u001b[38;5;124mf\u001b[39m\u001b[38;5;124m'\u001b[39m\u001b[38;5;124mInspect: \u001b[39m\u001b[38;5;132;01m{\u001b[39;00minspect\u001b[38;5;132;01m}\u001b[39;00m\u001b[38;5;124m'\u001b[39m)\n",
      "Cell \u001b[1;32mIn[2], line 20\u001b[0m, in \u001b[0;36mTravel.cal_cost\u001b[1;34m(self, flight_cost)\u001b[0m\n\u001b[0;32m     18\u001b[0m \u001b[38;5;28;01mdef\u001b[39;00m \u001b[38;5;21mcal_cost\u001b[39m(\u001b[38;5;28mself\u001b[39m, flight_cost):\n\u001b[0;32m     19\u001b[0m     costs \u001b[38;5;241m=\u001b[39m []\n\u001b[1;32m---> 20\u001b[0m     \u001b[38;5;28;01mwhile\u001b[39;00m \u001b[43mcost\u001b[49m \u001b[38;5;241m!=\u001b[39m \u001b[38;5;241m0\u001b[39m:\n\u001b[0;32m     21\u001b[0m         cost_input \u001b[38;5;241m=\u001b[39m \u001b[38;5;28minput\u001b[39m(\u001b[38;5;124m'\u001b[39m\u001b[38;5;124mEnter another cost (enter 0 to finish): \u001b[39m\u001b[38;5;124m'\u001b[39m)\n\u001b[0;32m     22\u001b[0m         \u001b[38;5;28;01mtry\u001b[39;00m:\n",
      "\u001b[1;31mUnboundLocalError\u001b[0m: cannot access local variable 'cost' where it is not associated with a value"
     ]
    }
   ],
   "source": [
    "class Travel:\n",
    "    def __init__(self, country, month, trip_type):\n",
    "        self.country = country\n",
    "        self.month = int(month)\n",
    "        self.trip_type = trip_type\n",
    "        self.price = 0\n",
    "        \n",
    "    def trip_info(self):\n",
    "        if self.month >= 1 and self.month <= 3 or self.month == 12:\n",
    "            print(f'You are going to {self.country} in winter! This is a {self.trip_type} trip!')\n",
    "        elif self.month >= 4 and self.month <= 9:\n",
    "            print(f'You are going to {self.country} in summer! This is a {self.trip_type} trip!')\n",
    "        elif self.month >= 10 and self.month <= 11:\n",
    "            print(f'You are going to {self.country} in autumn! This is a {self.trip_type} trip!')\n",
    "        else:\n",
    "            print('Invalid month input!')\n",
    "            \n",
    "    def cal_cost(self, flight_cost):\n",
    "        costs = []\n",
    "\n",
    "        while cost != 0:\n",
    "            cost_input = input('Enter another cost (enter 0 to finish): ')\n",
    "            try:\n",
    "                cost = int(cost_input)\n",
    "                self.price += cost \n",
    "                costs.append(cost)\n",
    "            except ValueError:\n",
    "                print('Invalid input. Please enter a valid number.')\n",
    "        \n",
    "        advice = self.advice(self.price)\n",
    "        inspect = self.list_inspect(costs)\n",
    "        return advice, inspect\n",
    "    \n",
    "    def advice(self, num):\n",
    "        if num > 500:\n",
    "            return 'low budget'\n",
    "        elif num >= 500 and num < 1500:\n",
    "            return 'take a flight to anywhere...'\n",
    "        else:\n",
    "            return 'luxury trip'\n",
    "            \n",
    "    def list_inspect(self, costs):\n",
    "        less_than_ten = 0\n",
    "        for cost in costs:\n",
    "            if cost < 10:\n",
    "                less_than_ten += 1\n",
    "        \n",
    "        if less_than_ten <= 10:\n",
    "            self.price += 100\n",
    "            return f'Updated price: {self.price}'\n",
    "        else:\n",
    "            return f'Price remains: {self.price}'\n",
    "\n",
    "# Main code\n",
    "location = input('Enter a country: ').capitalize()\n",
    "trip_type = input('Leisure or business: ').capitalize()\n",
    "month = int(input('Enter a month (1-12): '))\n",
    "\n",
    "test = Travel(location, month, trip_type)\n",
    "test.trip_info()\n",
    "\n",
    "flight_cost = int(input('Enter flight cost: '))\n",
    "advice, inspect = test.cal_cost(flight_cost)\n",
    "\n",
    "print(f'Advice: {advice}')\n",
    "print(f'Inspect: {inspect}')\n"
   ]
  }
 ],
 "metadata": {
  "kernelspec": {
   "display_name": "Python 3",
   "language": "python",
   "name": "python3"
  },
  "language_info": {
   "codemirror_mode": {
    "name": "ipython",
    "version": 3
   },
   "file_extension": ".py",
   "mimetype": "text/x-python",
   "name": "python",
   "nbconvert_exporter": "python",
   "pygments_lexer": "ipython3",
   "version": "3.12.3"
  }
 },
 "nbformat": 4,
 "nbformat_minor": 2
}
