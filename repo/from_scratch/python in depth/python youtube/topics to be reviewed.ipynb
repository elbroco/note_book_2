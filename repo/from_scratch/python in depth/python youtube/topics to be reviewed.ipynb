{
 "cells": [
  {
   "cell_type": "markdown",
   "metadata": {},
   "source": [
    "# classes"
   ]
  },
  {
   "cell_type": "code",
   "execution_count": null,
   "metadata": {},
   "outputs": [],
   "source": [
    "class Dog:\n",
    "    \n",
    "    def __init__(self,name,age):  #constructor function\n",
    "        self.name = name\n",
    "        self.age = age\n",
    "        \n",
    "    def bark(self):\n",
    "        print('woof')\n",
    "        \n",
    "\n",
    "#creating an instance of an object\n",
    "\n",
    "roger = Dog('roger',8)\n",
    "\n",
    "print(roger.name)\n",
    "print(roger.age)\n",
    "roger.bark()\n",
    "\n"
   ]
  },
  {
   "cell_type": "markdown",
   "metadata": {},
   "source": [
    "# inheritance"
   ]
  },
  {
   "cell_type": "code",
   "execution_count": null,
   "metadata": {},
   "outputs": [],
   "source": [
    "class Animal:\n",
    "    def walk(self):\n",
    "        print('walking...')\n",
    "        \n",
    "        \n",
    "class Dog(Animal):\n",
    "    \n",
    "    def __init__(self,name,age):  #constructor function\n",
    "        self.name = name\n",
    "        self.age = age\n",
    "        \n",
    "    def bark(self):\n",
    "        print('woof')\n",
    "        \n",
    "roger = Dog('roger',8)\n",
    "\n",
    "roger.bark()\n",
    "roger.walk()    \n",
    "\n",
    "#the class dog inherits the function walk from the class animal"
   ]
  },
  {
   "cell_type": "markdown",
   "metadata": {},
   "source": [
    "# polymorphism"
   ]
  },
  {
   "cell_type": "code",
   "execution_count": null,
   "metadata": {},
   "outputs": [],
   "source": [
    "class Dog:\n",
    "    def eat(self):\n",
    "        print('Eating dog food')\n",
    "        \n",
    "class Cat:\n",
    "    def eat(self):\n",
    "        print('Eating cat food')\n",
    "        \n",
    "animal1 = Dog()\n",
    "animal2 = Cat()\n",
    "\n",
    "animal1.eat()\n",
    "animal2.eat()\n"
   ]
  },
  {
   "cell_type": "markdown",
   "metadata": {},
   "source": [
    "# Operator Overloading"
   ]
  },
  {
   "cell_type": "code",
   "execution_count": null,
   "metadata": {},
   "outputs": [],
   "source": [
    "class Dog:\n",
    "    def __init__(self, name, age):\n",
    "        self.name = name \n",
    "        self.age = age\n",
    "        \n",
    "    def __gt__(self,other):\n",
    "        return True if self.age > other.age else False\n",
    "    \n",
    "roger = Dog('roger',8)\n",
    "syd = Dog('syd',7)\n",
    "\n",
    "print(roger > syd)"
   ]
  },
  {
   "cell_type": "markdown",
   "metadata": {},
   "source": [
    "# lambda functions"
   ]
  },
  {
   "cell_type": "code",
   "execution_count": null,
   "metadata": {},
   "outputs": [],
   "source": [
    "double = lambda num: num * 2\n",
    "print(double(2))\n",
    "\n",
    "power = lambda num,power: num**power\n",
    "power(2,10)\n",
    "\n",
    "\n"
   ]
  },
  {
   "cell_type": "markdown",
   "metadata": {},
   "source": [
    "# map, filter, reduce"
   ]
  },
  {
   "cell_type": "code",
   "execution_count": null,
   "metadata": {},
   "outputs": [],
   "source": [
    "# map   takes a iterable and applies a function to each element\n",
    "\n",
    "numbers = [1,2,3]\n",
    "\n",
    "def double(a):\n",
    "    return a * 2\n",
    "\n",
    "result = map(double, numbers)\n",
    "\n",
    "print (list(result))\n",
    "\n",
    "#----------------------------------------\n",
    "numbers = [1,2,3]\n",
    "\n",
    "result = map(lambda num: num * 2 , numbers)\n",
    "\n",
    "print (list(result))\n",
    "\n",
    "\n"
   ]
  },
  {
   "cell_type": "code",
   "execution_count": null,
   "metadata": {},
   "outputs": [],
   "source": [
    "# filter takes an iterable an filters the objects\n",
    "\n",
    "numbers = [1,2,3,4,5,6,7,8,9,10]\n",
    "\n",
    "def isEven(n):\n",
    "    return n % 2 == 0\n",
    "\n",
    "result = filter(isEven,numbers)\n",
    "print(list(result))\n",
    "\n",
    "\n",
    "#--------------------------------------\n",
    "\n",
    "result = filter(lambda x: x % 2 != 0, numbers)\n",
    "print(list(result))"
   ]
  },
  {
   "cell_type": "code",
   "execution_count": null,
   "metadata": {},
   "outputs": [],
   "source": [
    "# reduce  takes an iterable and reduces all the values just to a single value\n",
    "\n",
    "# long way\n",
    "expenses = [\n",
    "    ('dinner',80),\n",
    "    ('car repair', 120)\n",
    "]\n",
    "\n",
    "sum = 0\n",
    "\n",
    "for expense in expenses:\n",
    "    sum += expense[1]\n",
    "    \n",
    "print(sum)\n",
    "\n",
    "# using reduce\n",
    "\n",
    "from functools import reduce\n",
    "\n",
    "expenses = [\n",
    "    ('dinner', 80),\n",
    "    ('car repair', 120)\n",
    "]\n",
    "\n",
    "# Using reduce to sum all the amounts in the expenses\n",
    "total_expenses = reduce(lambda acc, expense: acc + expense[1], expenses, 0) #The third argument to reduce, 0, is the initial value of the accumulator.\n",
    "print(total_expenses)\n"
   ]
  },
  {
   "cell_type": "markdown",
   "metadata": {},
   "source": [
    "# recursion"
   ]
  },
  {
   "cell_type": "code",
   "execution_count": null,
   "metadata": {},
   "outputs": [],
   "source": [
    "# using a function within the same function\n",
    "\n",
    "def factorial(n):\n",
    "    if n == 1: return 1\n",
    "    return n * factorial(n-1)\n",
    "\n",
    "print(factorial(2))\n",
    "print(factorial(3))\n",
    "print(factorial(4))\n",
    "print(factorial(5))\n"
   ]
  },
  {
   "cell_type": "markdown",
   "metadata": {},
   "source": [
    "# Decorators"
   ]
  },
  {
   "cell_type": "code",
   "execution_count": null,
   "metadata": {},
   "outputs": [],
   "source": [
    "def logtime(func):\n",
    "    def wrapper():\n",
    "        print('before')\n",
    "        val = func()\n",
    "        print('after')\n",
    "        return val\n",
    "    return wrapper\n",
    "\n",
    "@logtime\n",
    "def hello():\n",
    "    print('hello')\n",
    "    \n",
    "hello()"
   ]
  },
  {
   "cell_type": "markdown",
   "metadata": {},
   "source": [
    "# docstrings"
   ]
  },
  {
   "cell_type": "code",
   "execution_count": null,
   "metadata": {},
   "outputs": [],
   "source": [
    "# basically comments that say what a certain line of code does"
   ]
  },
  {
   "cell_type": "markdown",
   "metadata": {},
   "source": [
    "# annotations\n"
   ]
  },
  {
   "cell_type": "code",
   "execution_count": null,
   "metadata": {},
   "outputs": [],
   "source": [
    "# specifies certains things in the code\n",
    "\n",
    "def increment(n: int) -> int:  # this means this function takes an int and returns a int\n",
    "    return n + 1\n",
    "\n",
    "count: int = 0   # means this variable is an int"
   ]
  },
  {
   "cell_type": "markdown",
   "metadata": {},
   "source": [
    "# exceptions"
   ]
  },
  {
   "cell_type": "code",
   "execution_count": null,
   "metadata": {},
   "outputs": [],
   "source": [
    "# this is used for exeption handling\n",
    "\n",
    "# try:\n",
    "#     #lines of code\n",
    "# except <error1>:\n",
    "#     #handler <error1>\n",
    "# except <error2>:\n",
    "#     #handler <error2>\n",
    "# else:\n",
    "#     # no exceptions were raised, the code ran successully\n",
    "# finally:\n",
    "#     # do something in any case\n",
    "        \n",
    "\n",
    "def divide(n,t):\n",
    "    return n/t\n",
    "\n",
    "try:\n",
    "    result = divide(2,1)\n",
    "except ZeroDivisionError:\n",
    "    print('cannot divide by zero')\n",
    "finally:\n",
    "    result = 1\n",
    "    \n",
    "print(result)\n",
    "\n",
    "\n",
    "\n",
    "# raising errors\n",
    "\n",
    "\n",
    "try: \n",
    "    raise Exception('an error!')\n",
    "except Exception as error:\n",
    "    print(error)\n",
    "    \n",
    "    \n",
    "# creating my own execeptions\n",
    "\n",
    "class DogNotFoundException(Exception):\n",
    "    print('inside')\n",
    "    pass\n",
    "\n",
    "try:\n",
    "    raise DogNotFoundException()\n",
    "except DogNotFoundException:\n",
    "    print('Dog not found')\n",
    "    \n",
    "    \n",
    "\n",
    "\n"
   ]
  },
  {
   "cell_type": "markdown",
   "metadata": {},
   "source": [
    "# list comprehenssions"
   ]
  },
  {
   "cell_type": "code",
   "execution_count": null,
   "metadata": {},
   "outputs": [],
   "source": [
    "numbers = [ 1,2,3,4,5]\n",
    "\n",
    "power_of_numbers = [n**2 for n in numbers]\n",
    "\n",
    "print(power_of_numbers)\n",
    "\n"
   ]
  },
  {
   "cell_type": "markdown",
   "metadata": {},
   "source": [
    "# format specifiers\n"
   ]
  },
  {
   "cell_type": "code",
   "execution_count": null,
   "metadata": {},
   "outputs": [],
   "source": [
    "# format specifiers = {:flags} format a value based on what flags are inserted\n",
    "\n",
    "# :.(number)f = round to that many decimal places\n",
    "# :(number) = allocate that many spaces\n",
    "# :0(number) = allocate and zero pad that many spaces\n",
    "# :<(number) = left justify\n",
    "# :>(number) = right justify\n",
    "# :^(number) = center align\n",
    "# :+ = use a plus sign to indicate positive value\n",
    "# := = place sign to leftmost position\n",
    "# :  = insert a space before positive numbers\n",
    "# :, = comma separator\n",
    "# :% = percentage format\n",
    "\n",
    "price1 = 3.14159\n",
    "price2 = -987.65\n",
    "price3 = 12000.34\n",
    "print(f\"price1 is: ${price1:.1f}\")\n",
    "print(f\"price2 is: ${price2:^20}\")\n",
    "print(f\"price3 is: ${price3:,}\")\n",
    "print(f\"price1 is: ${price1:.1f}\")\n",
    "print(f\"price2 is: ${price2:^20}\")\n",
    "print(f\"price3 is: ${price3:,%}\")"
   ]
  },
  {
   "cell_type": "markdown",
   "metadata": {},
   "source": [
    "# default arguments"
   ]
  },
  {
   "cell_type": "code",
   "execution_count": null,
   "metadata": {},
   "outputs": [],
   "source": [
    "# ---- EXAMPLE ----\n",
    "def net_price(list_price, discount=0, tax=0.05):\n",
    "   return list_price * (1 - discount) * (1 - tax)\n",
    "\n",
    "print(net_price(500))\n",
    "print(net_price(500, 0.1))\n",
    "print(net_price(500, 0.1, 0))\n",
    "\n",
    "# ---- EXERCISE ----\n",
    "import time\n",
    "\n",
    "def count(end, start=0): \n",
    "    for x in range(start, end+1):\n",
    "        print(x)\n",
    "        time.sleep(1)\n",
    "    print(\"DONE!\")\n",
    "\n",
    "count(10)\n",
    "count(30, 15)"
   ]
  },
  {
   "cell_type": "markdown",
   "metadata": {},
   "source": [
    "# keyword arguments"
   ]
  },
  {
   "cell_type": "code",
   "execution_count": null,
   "metadata": {},
   "outputs": [],
   "source": [
    "# keyword arguments = arguments prefixed with the names of parameters\n",
    "# order of the arguments doesn’t matter\n",
    "# helps with readability\n",
    "\n",
    "# ---- EXAMPLE 1 ----\n",
    "def hello(greeting, title, first, last):\n",
    "    print(f\"{greeting} {title}{first} {last}\")\n",
    "\n",
    "hello(\"Hello\", title=\"Mr.\", last=\"John\", first=\"James\")\n",
    "\n",
    "# ---- EXAMPLE 2 ----\n",
    "for number in range(1, 11):\n",
    "    print(number, end=\" \")\n",
    "\n",
    "print(\"1\", \"2\", \"3\", \"4\", \"5\", sep=\"-\")\n",
    "\n",
    "# ---- EXERCISE ----\n",
    "def get_phone(country, area, first, last):\n",
    "    return f\"{country}-{area}-{first}-{last}\"\n",
    "\n",
    "phone_num = get_phone(country=1, area=123, first=456, last=7890)\n",
    "print(phone_num)"
   ]
  },
  {
   "cell_type": "markdown",
   "metadata": {},
   "source": [
    "# *args and **kwargs"
   ]
  },
  {
   "cell_type": "code",
   "execution_count": 26,
   "metadata": {},
   "outputs": [
    {
     "name": "stdout",
     "output_type": "stream",
     "text": [
      "10\n",
      "Hello Dr. Spongebob Harold Squarepants III 123 Fake St. P.O Box 777 Detroit MI 54321 Dr. Spongebob Squarepants \n",
      "123 Fake St.\n",
      "PO box #1001\n",
      "Detroit, MI 54321\n"
     ]
    }
   ],
   "source": [
    "# *args       = allows you to pass multiple non-key arguments\n",
    "# **kwargs = allows you to pass multiple keyword-arguments\n",
    "# * unpacking operator\n",
    "\n",
    "#args creates a tuple\n",
    "#kwargs creates a dictionary\n",
    "\n",
    "# ---- *ARGS Example 1 ----\n",
    "\n",
    "def add(*nums):\n",
    "   total = 0\n",
    "   for num in nums:\n",
    "       total += num\n",
    "   return total\n",
    "\n",
    "print(add(1, 2, 3, 4))\n",
    "\n",
    "# ---- *ARGS Example 2 ----\n",
    "\n",
    "def display_name(*args):\n",
    "   print(f\"Hello\", end=\" \")\n",
    "   for arg in args:\n",
    "       print(arg, end=\" \")\n",
    "\n",
    "display_name(\"Dr.\", \"Spongebob\", \"Harold\", \"Squarepants\", \"III\")\n",
    "\n",
    "# ---- **KWARGS ----\n",
    "def print_address(**kwargs):\n",
    "    for value in kwargs.values():\n",
    "        print(value, end=\" \")\n",
    "\n",
    "print_address(street=\"123 Fake St.\",\n",
    "              pobox=\"P.O Box 777\",\n",
    "              city=\"Detroit\",\n",
    "              state=\"MI\",\n",
    "              zip=\"54321\")\n",
    "\n",
    "# ---- EXERCISE ----\n",
    "def shipping_label(*args, **kwargs):\n",
    "    for arg in args:\n",
    "        print(arg, end=\" \")\n",
    "    print()\n",
    "\n",
    "    if \"apt\" in kwargs:\n",
    "        print(f\"{kwargs.get('street')} {kwargs.get('apt')}\")\n",
    "    elif \"pobox\" in kwargs:\n",
    "        print(f\"{kwargs.get('street')}\")\n",
    "        print(f\"{kwargs.get('pobox')}\")\n",
    "    else:\n",
    "        print(f\"{kwargs.get('street')}\")\n",
    "\n",
    "    print(f\"{kwargs.get('city')}, {kwargs.get('state')} {kwargs.get('zip')}\")\n",
    "\n",
    "shipping_label(\"Dr.\", \"Spongebob\", \"Squarepants\",\n",
    "               street=\"123 Fake St.\",\n",
    "               pobox=\"PO box #1001\",\n",
    "               city=\"Detroit\",\n",
    "               state=\"MI\",\n",
    "               zip=\"54321\")"
   ]
  },
  {
   "cell_type": "markdown",
   "metadata": {},
   "source": [
    "# Scope resolution"
   ]
  },
  {
   "cell_type": "code",
   "execution_count": 28,
   "metadata": {},
   "outputs": [
    {
     "name": "stdout",
     "output_type": "stream",
     "text": [
      "1\n",
      "2\n",
      "\n",
      "1\n",
      "\n",
      "3\n",
      "3\n",
      "\n",
      "2.718281828459045\n",
      "\n"
     ]
    }
   ],
   "source": [
    "# ---- LOCAL ----\n",
    "\n",
    "def func1():\n",
    "    x = 1 #local\n",
    "    print(x)\n",
    "\n",
    "def func2():\n",
    "    x = 2 #local\n",
    "    print(x)\n",
    "\n",
    "func1()\n",
    "func2()\n",
    "print('')\n",
    "\n",
    "# ---- ENCLOSED ----\n",
    "\n",
    "def func1():\n",
    "    x = 1 #enclosed\n",
    "\n",
    "    def func2():\n",
    "        print(x)\n",
    "    func2()\n",
    "\n",
    "func1()\n",
    "print('')\n",
    "\n",
    "#---- GLOBAL ----\n",
    "\n",
    "def func1():\n",
    "    print(x)\n",
    "\n",
    "def func2():\n",
    "    print(x)\n",
    "\n",
    "x = 3 #global\n",
    "\n",
    "func1()\n",
    "func2()\n",
    "print('')\n",
    "\n",
    "#---- BUILT-IN ----\n",
    "\n",
    "from math import e \n",
    "\n",
    "def func1():\n",
    "    print(e)\n",
    "\n",
    "func1()\n",
    "print('')"
   ]
  },
  {
   "cell_type": "markdown",
   "metadata": {},
   "source": [
    "# if__name__ == __ main __"
   ]
  },
  {
   "cell_type": "code",
   "execution_count": null,
   "metadata": {},
   "outputs": [],
   "source": [
    "# if _name_ == '__main__': (this script can be imported OR run standalone)\n",
    "# Functions and classes in this module can be reused without the main block of code executing\n",
    "\n",
    "# Good practice (code is modular, helps readability, leaves no global variables, avoids unintended execution)\n",
    "\n",
    "# Ex. library = Import library for functionality.  When running library directly, display a help page.\n",
    "\n",
    "# --------- script1.py ---------\n",
    "# This file can run standalone or be imported\n",
    "\n",
    "def favorite_food(food):\n",
    "    print(f\"Your favorite food is {food}\")\n",
    "\n",
    "def main():\n",
    "    print(\"This is script1\")\n",
    "    favorite_food(\"pizza\")\n",
    "    print(\"Goodbye!\")\n",
    "\n",
    "if _name_ == '__main__':\n",
    "    main()\n",
    "\n",
    "# --------- script2.py ---------\n",
    "# This file should run only standalone\n",
    "\n",
    "from script1 import *\n",
    "\n",
    "def favorite_drink(drink):\n",
    "    print(f\"Your favorite drink is {drink}\")\n",
    "\n",
    "print(\"This is script2\")\n",
    "favorite_food(\"sushi\")\n",
    "favorite_drink(\"coffee\")\n",
    "print('Goodbye!')"
   ]
  },
  {
   "cell_type": "markdown",
   "metadata": {},
   "source": [
    "# OOP 1"
   ]
  },
  {
   "cell_type": "code",
   "execution_count": 31,
   "metadata": {},
   "outputs": [
    {
     "name": "stdout",
     "output_type": "stream",
     "text": [
      "\n",
      "Mustang\n",
      "2024\n",
      "red\n",
      "False\n",
      "You drive the car\n",
      "You drive the Mustang\n",
      "You drive the red Mustang\n",
      "You stop the car\n",
      "You stop the Mustang\n",
      "You stop the red Mustang\n",
      "2026 yellow Charger\n"
     ]
    }
   ],
   "source": [
    "# object = A \"bundle\" of related attributes (variables) and methods (functions)\n",
    "# Ex. phone, cup, book\n",
    "# You need a \"class\" to create many objects\n",
    "\n",
    "# class  = (blueprint) used to design the structure and layout of an object\n",
    "\n",
    "# dunder method = double score\n",
    "\n",
    "# -------------- car.py --------------\n",
    "class Car:\n",
    "   def __init__(self, model, year, color, for_sale):\n",
    "       self.model = model\n",
    "       self.year = year\n",
    "       self.color = color\n",
    "       self.for_sale = for_sale\n",
    "\n",
    "   def drive(self):\n",
    "       print(\"You drive the car\")\n",
    "       print(f\"You drive the {self.model}\")\n",
    "       print(f\"You drive the {self.color} {self.model}\")\n",
    "\n",
    "   def stop(self):\n",
    "       print(\"You stop the car\")\n",
    "       print(f\"You stop the {self.model}\")\n",
    "       print(f\"You stop the {self.color} {self.model}\")\n",
    "\n",
    "   def describe(self):\n",
    "       print(f\"{self.year} {self.color} {self.model}\")\n",
    "# --------------------------------------\n",
    "\n",
    "print('')\n",
    "# -------------- main.py --------------\n",
    "#from car import Car\n",
    "\n",
    "car1 = Car(\"Mustang\", 2024, \"red\", False)\n",
    "car2 = Car(\"Corvette\", 2025, \"blue\", True)\n",
    "car3 = Car(\"Charger\", 2026, \"yellow\", True)\n",
    "\n",
    "print(car1.model)\n",
    "print(car1.year)\n",
    "print(car1.color)\n",
    "print(car1.for_sale)\n",
    "\n",
    "car1.drive()\n",
    "car1.stop()\n",
    "car3.describe()"
   ]
  },
  {
   "cell_type": "markdown",
   "metadata": {},
   "source": [
    "# oop 2 : class variables"
   ]
  },
  {
   "cell_type": "code",
   "execution_count": 32,
   "metadata": {},
   "outputs": [
    {
     "name": "stdout",
     "output_type": "stream",
     "text": [
      "My graduating class of 2025 has 4 students\n",
      "Spongebob\n",
      "Patrick\n",
      "Squidward\n",
      "Sandy\n"
     ]
    }
   ],
   "source": [
    "# class variables = Shared among all instances of a class\n",
    "# Defined outside the constructor\n",
    "# Allow you to share data among all objects created from that class\n",
    "\n",
    "class Student:\n",
    "\n",
    "   class_year = 2025 #class variables\n",
    "   num_students = 0  #class variables\n",
    "\n",
    "   def __init__(self, name, age):\n",
    "       self.name = name  # instance variables\n",
    "       self.age = age    # instance variables\n",
    "       Student.num_students += 1  # instance variables\n",
    "\n",
    "student1 = Student(\"Spongebob\", 30)\n",
    "student2 = Student(\"Patrick\", 35)\n",
    "student3 = Student(\"Squidward\", 55)\n",
    "student4 = Student(\"Sandy\", 27)\n",
    "\n",
    "print(f\"My graduating class of {Student.class_year} has {Student.num_students} students\")\n",
    "print(student1.name)\n",
    "print(student2.name)\n",
    "print(student3.name)\n",
    "print(student4.name)"
   ]
  },
  {
   "cell_type": "markdown",
   "metadata": {},
   "source": [
    " # oop 3: inheritance"
   ]
  },
  {
   "cell_type": "code",
   "execution_count": 36,
   "metadata": {},
   "outputs": [],
   "source": [
    "# Inheritance = Inherit attributes and methods from another class\n",
    "# Helps with code reusability and extensibility\n",
    "# class Child(Parent)\n",
    "\n",
    "class Animal:\n",
    "    def __init__(self, name):\n",
    "        self.name = name\n",
    "        self.is_alive = True\n",
    "\n",
    "    def eat(self):\n",
    "        print(f\"{self.name} is eating\")\n",
    "\n",
    "    def sleep(self):\n",
    "        print(f\"{self.name} is asleep\")\n",
    "\n",
    "class Dog(Animal):\n",
    "    def speak(self):\n",
    "        print(\"WOOF!\")\n",
    "\n",
    "class Cat(Animal):\n",
    "    def speak(self):\n",
    "        print(\"MEOW!\")\n",
    "\n",
    "class Mouse(Animal):\n",
    "    def speak(self):\n",
    "        print(\"SQUEEK!\")\n",
    "\n",
    "dog = Dog(\"Scooby\")\n",
    "cat = Cat(\"Garfield\")\n",
    "mouse = Mouse(\"Mickey\")"
   ]
  }
 ],
 "metadata": {
  "kernelspec": {
   "display_name": "Python 3",
   "language": "python",
   "name": "python3"
  },
  "language_info": {
   "codemirror_mode": {
    "name": "ipython",
    "version": 3
   },
   "file_extension": ".py",
   "mimetype": "text/x-python",
   "name": "python",
   "nbconvert_exporter": "python",
   "pygments_lexer": "ipython3",
   "version": "3.12.3"
  }
 },
 "nbformat": 4,
 "nbformat_minor": 2
}
