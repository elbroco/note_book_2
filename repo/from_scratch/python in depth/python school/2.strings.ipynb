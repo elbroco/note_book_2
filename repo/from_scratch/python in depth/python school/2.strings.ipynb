{
 "cells": [
  {
   "cell_type": "markdown",
   "metadata": {},
   "source": [
    "String"
   ]
  },
  {
   "cell_type": "code",
   "execution_count": null,
   "metadata": {},
   "outputs": [],
   "source": [
    "a = \"\"\"Lorem ipsum dolor sit amet,\n",
    "consectetur adipiscing elit,\n",
    "sed do eiusmod tempor incididunt\n",
    "ut labore et dolore magna aliqua.\"\"\"\n",
    "print(a)"
   ]
  },
  {
   "cell_type": "code",
   "execution_count": null,
   "metadata": {},
   "outputs": [],
   "source": [
    "# strings are arrays\n",
    "\n",
    "a = \"Hello, World!\"\n",
    "print(a[1])"
   ]
  },
  {
   "cell_type": "code",
   "execution_count": null,
   "metadata": {},
   "outputs": [],
   "source": [
    "# looping through a string\n",
    "\n",
    "for x in \"banana\":\n",
    "  print(x)"
   ]
  },
  {
   "cell_type": "code",
   "execution_count": null,
   "metadata": {},
   "outputs": [],
   "source": [
    "# check if something is in a string\n",
    "\n",
    "txt = \"The best things in life are free!\"\n",
    "print(\"free\" in txt)\n",
    "\n",
    "# check if not something is in a string\n",
    "\n",
    "txt = \"The best things in life are free!\"\n",
    "print(\"expensive\" not in txt)\n",
    "\n",
    "\n",
    "txt = \"The best things in life are free!\"\n",
    "if \"expensive\" not in txt:\n",
    "  print(\"No, 'expensive' is NOT present.\")"
   ]
  },
  {
   "cell_type": "markdown",
   "metadata": {},
   "source": [
    "Slicing"
   ]
  },
  {
   "cell_type": "code",
   "execution_count": 5,
   "metadata": {},
   "outputs": [
    {
     "name": "stdout",
     "output_type": "stream",
     "text": [
      "llo\n"
     ]
    }
   ],
   "source": [
    "#Get the characters from position 2 to position 5 (not included):\n",
    "\n",
    "\n",
    "b = \"Hello, World!\"\n",
    "print(b[2:5])"
   ]
  },
  {
   "cell_type": "code",
   "execution_count": 6,
   "metadata": {},
   "outputs": [
    {
     "name": "stdout",
     "output_type": "stream",
     "text": [
      "Hello\n"
     ]
    }
   ],
   "source": [
    "#Get the characters from the start to position 5 (not included):\n",
    "\n",
    "#slice from the start\n",
    "\n",
    "b = \"Hello, World!\"\n",
    "print(b[:5])"
   ]
  },
  {
   "cell_type": "code",
   "execution_count": null,
   "metadata": {},
   "outputs": [],
   "source": [
    "# Get the characters from position 2, and all the way to the end:\n",
    "#slice to the end\n",
    "\n",
    "b = \"Hello, World!\"\n",
    "print(b[2:])"
   ]
  },
  {
   "cell_type": "code",
   "execution_count": 7,
   "metadata": {},
   "outputs": [
    {
     "name": "stdout",
     "output_type": "stream",
     "text": [
      "orl\n"
     ]
    }
   ],
   "source": [
    "#Use negative indexes to start the slice from the end of the string:\n",
    "# negative indexing\n",
    "\n",
    "# From: \"o\" in \"World!\" (position -5)\n",
    "# To, but not included: \"d\" in \"World!\" (position -2):\n",
    "\n",
    "b = \"Hello, World!\"\n",
    "print(b[-5:-2])\n"
   ]
  },
  {
   "cell_type": "markdown",
   "metadata": {},
   "source": [
    "Methods "
   ]
  },
  {
   "cell_type": "code",
   "execution_count": null,
   "metadata": {},
   "outputs": [],
   "source": [
    "#The strip() method removes any whitespace from the beginning or the end:\n",
    "\n",
    "a = \" Hello, World! \"\n",
    "print(a.strip()) # returns \"Hello, World!\""
   ]
  },
  {
   "cell_type": "code",
   "execution_count": null,
   "metadata": {},
   "outputs": [],
   "source": [
    "#The replace() method replaces a string with another string:\n",
    "\n",
    "a = \"Hello, World!\"\n",
    "print(a.replace(\"H\", \"J\"))"
   ]
  },
  {
   "cell_type": "code",
   "execution_count": null,
   "metadata": {},
   "outputs": [],
   "source": [
    "#The split() method splits the string into substrings if it finds instances of the separator:\n",
    "\n",
    "a = \"Hello, World!\"\n",
    "print(a.split(\",\")) # returns ['Hello', ' World!']"
   ]
  },
  {
   "cell_type": "code",
   "execution_count": null,
   "metadata": {},
   "outputs": [],
   "source": [
    "capitalize()\t#Converts the first character to upper case\n",
    "casefold()\t#Converts string into lower case\n",
    "center()\t#Returns a centered string\n",
    "count()\t#Returns the number of times a specified value occurs in a string\n",
    "encode()\t#Returns an encoded version of the string\n",
    "endswith()\t#Returns true if the string ends with the specified value\n",
    "expandtabs()\t#Sets the tab size of the string\n",
    "find()\t#Searches the string for a specified value and returns the position of where it was found\n",
    "format()\t#Formats specified values in a string\n",
    "format_map()\t#Formats specified values in a string\n",
    "index()\t#Searches the string for a specified value and returns the position of where it was found\n",
    "isalnum()\t#Returns True if all characters in the string are alphanumeric\n",
    "isalpha()\t#Returns True if all characters in the string are in the alphabet\n",
    "isascii()\t#Returns True if all characters in the string are ascii characters\n",
    "isdecimal()\t#Returns True if all characters in the string are decimals\n",
    "isdigit()\t#Returns True if all characters in the string are digits\n",
    "isidentifier()\t#Returns True if the string is an identifier\n",
    "islower()\t#Returns True if all characters in the string are lower case\n",
    "isnumeric()\t#Returns True if all characters in the string are numeric\n",
    "isprintable()\t#Returns True if all characters in the string are printable\n",
    "isspace()\t#Returns True if all characters in the string are whitespaces\n",
    "istitle()\t#Returns True if the string follows the rules of a title\n",
    "isupper()\t#Returns True if all characters in the string are upper case\n",
    "join()\t#Converts the elements of an iterable into a string\n",
    "ljust()\t#Returns a left justified version of the string\n",
    "lower()\t#Converts a string into lower case\n",
    "lstrip()\t#Returns a left trim version of the string\n",
    "maketrans()\t#Returns a translation table to be used in translations\n",
    "partition()\t#Returns a tuple where the string is parted into three parts\n",
    "replace()\t#Returns a string where a specified value is replaced with a specified value\n",
    "rfind()\t#Searches the string for a specified value and returns the last position of where it was found\n",
    "rindex()\t#Searches the string for a specified value and returns the last position of where it was found\n",
    "rjust()\t#Returns a right justified version of the string\n",
    "rpartition()\t#Returns a tuple where the string is parted into three parts\n",
    "rsplit()\t#Splits the string at the specified separator, and returns a list\n",
    "rstrip()\t#Returns a right trim version of the string\n",
    "split()\t#Splits the string at the specified separator, and returns a list\n",
    "splitlines()\t#Splits the string at line breaks and returns a list\n",
    "startswith()\t#Returns true if the string starts with the specified value\n",
    "strip()\t#Returns a trimmed version of the string\n",
    "swapcase()\t#Swaps cases, lower case becomes upper case and vice versa\n",
    "title()\t#Converts the first character of each word to upper case\n",
    "translate()\t#Returns a translated string\n",
    "upper()\t#Converts a string into upper case\n",
    "zfill()\t#Fills the string with a specified number of 0 values at the beginning"
   ]
  },
  {
   "cell_type": "markdown",
   "metadata": {},
   "source": [
    "CONCATENATION"
   ]
  },
  {
   "cell_type": "code",
   "execution_count": 9,
   "metadata": {},
   "outputs": [
    {
     "name": "stdout",
     "output_type": "stream",
     "text": [
      "HelloWorld\n",
      "Hello World\n"
     ]
    }
   ],
   "source": [
    "\n",
    "a = \"Hello\"\n",
    "b = \"World\"\n",
    "c = a + b\n",
    "print(c)\n",
    "\n",
    "a = \"Hello\"\n",
    "b = \"World\"\n",
    "c = a + \" \" + b\n",
    "print(c)"
   ]
  },
  {
   "cell_type": "markdown",
   "metadata": {},
   "source": [
    "F STRINGS"
   ]
  },
  {
   "cell_type": "code",
   "execution_count": 10,
   "metadata": {},
   "outputs": [
    {
     "name": "stdout",
     "output_type": "stream",
     "text": [
      "The price is 59 dollars\n",
      "The price is 59.00 dollars\n",
      "The price is 1180 dollars\n"
     ]
    }
   ],
   "source": [
    "price = 59\n",
    "txt = f\"The price is {price} dollars\"\n",
    "print(txt)\n",
    "\n",
    "price = 59\n",
    "txt = f\"The price is {price:.2f} dollars\"\n",
    "print(txt)\n",
    "\n",
    "txt = f\"The price is {20 * 59} dollars\"\n",
    "print(txt)"
   ]
  },
  {
   "cell_type": "code",
   "execution_count": 11,
   "metadata": {},
   "outputs": [
    {
     "name": "stdout",
     "output_type": "stream",
     "text": [
      "I love APPLES\n",
      "The plane is flying at a 9144.0 meter altitude\n"
     ]
    }
   ],
   "source": [
    "# Execute Functions in F-Strings\n",
    "fruit = \"apples\"\n",
    "txt = f\"I love {fruit.upper()}\"\n",
    "print(txt)\n",
    "\n",
    "#-------------------------------\n",
    "def myconverter(x):\n",
    "  return x * 0.3048\n",
    "\n",
    "txt = f\"The plane is flying at a {myconverter(30000)} meter altitude\"\n",
    "print(txt)"
   ]
  },
  {
   "cell_type": "markdown",
   "metadata": {},
   "source": [
    "MODIFIERS "
   ]
  },
  {
   "cell_type": "code",
   "execution_count": 12,
   "metadata": {},
   "outputs": [
    {
     "name": "stdout",
     "output_type": "stream",
     "text": [
      "The price is 59,000 dollars\n"
     ]
    }
   ],
   "source": [
    "price = 59000\n",
    "txt = f\"The price is {price:,} dollars\"\n",
    "print(txt)\n",
    "\n",
    "\n"
   ]
  },
  {
   "cell_type": "code",
   "execution_count": null,
   "metadata": {},
   "outputs": [],
   "source": [
    "# Formatting Types\n",
    "\n",
    "# :<\t\tLeft aligns the result (within the available space)\n",
    "# :>\t\tRight aligns the result (within the available space)\n",
    "# :^\t\tCenter aligns the result (within the available space)\n",
    "# :=\t\tPlaces the sign to the left most position\n",
    "# :+\t\tUse a plus sign to indicate if the result is positive or negative\n",
    "# :-\t\tUse a minus sign for negative values only\n",
    "# : \t\tUse a space to insert an extra space before positive numbers (and a minus sign before negative numbers)\n",
    "# :,\t\tUse a comma as a thousand separator\n",
    "# :_\t\tUse a underscore as a thousand separator\n",
    "# :b\t\tBinary format\n",
    "# :c\t\tConverts the value into the corresponding Unicode character\n",
    "# :d\t\tDecimal format\n",
    "# :e\t\tScientific format, with a lower case e\n",
    "# :E\t\tScientific format, with an upper case E\n",
    "# :f\t\tFix point number format\n",
    "# :F\t\tFix point number format, in uppercase format (show inf and nan as INF and NAN)\n",
    "# :g\t\tGeneral format\n",
    "# :G\t\tGeneral format (using a upper case E for scientific notations)\n",
    "# :o\t\tOctal format\n",
    "# :x\t\tHex format, lower case\n",
    "# :X\t\tHex format, upper case\n",
    "# :n\t\tNumber format\n",
    "# :%\t\tPercentage format"
   ]
  }
 ],
 "metadata": {
  "kernelspec": {
   "display_name": "Python 3",
   "language": "python",
   "name": "python3"
  },
  "language_info": {
   "codemirror_mode": {
    "name": "ipython",
    "version": 3
   },
   "file_extension": ".py",
   "mimetype": "text/x-python",
   "name": "python",
   "nbconvert_exporter": "python",
   "pygments_lexer": "ipython3",
   "version": "3.12.3"
  }
 },
 "nbformat": 4,
 "nbformat_minor": 2
}
