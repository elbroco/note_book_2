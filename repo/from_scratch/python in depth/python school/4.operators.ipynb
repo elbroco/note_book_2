{
 "cells": [
  {
   "cell_type": "markdown",
   "metadata": {},
   "source": [
    "Arithmetic operators"
   ]
  },
  {
   "cell_type": "code",
   "execution_count": null,
   "metadata": {},
   "outputs": [],
   "source": [
    "Operator\tName\tExample\t\n",
    "+\tAddition\t     x + y\t\n",
    "-\tSubtraction\t     x - y\t\n",
    "*\tMultiplication\t x * y\t\n",
    "/\tDivision\t     x / y\t\n",
    "%\tModulus\t         x % y\t  #returns the just float \n",
    "**\tExponentiation\t x ** y\t\n",
    "//\tFloor division\t x // y  #returns the just integer"
   ]
  },
  {
   "cell_type": "markdown",
   "metadata": {},
   "source": [
    "    ASSIGNMENT OPERATORS"
   ]
  },
  {
   "cell_type": "code",
   "execution_count": null,
   "metadata": {},
   "outputs": [],
   "source": [
    "Operator\tExample\t      \n",
    "=\tx = 5\t x = 5\t\n",
    "+=\tx += 3\t x = x + 3\t\n",
    "-=\tx -= 3\t x = x - 3\t\n",
    "*=\tx *= 3\t x = x * 3\t\n",
    "/=\tx /= 3\t x = x / 3\t\n",
    "%=\tx %= 3\t x = x % 3\t\n",
    "//=\tx //= 3\t x = x // 3\t\n",
    "**=\tx **= 3\t x = x ** 3\t\n"
   ]
  },
  {
   "cell_type": "markdown",
   "metadata": {},
   "source": [
    "comparison operators\n"
   ]
  },
  {
   "cell_type": "code",
   "execution_count": null,
   "metadata": {},
   "outputs": [],
   "source": [
    "Operator\tName\t            Example\t\n",
    "==\tEqual\t                     x == y\t\n",
    "!=\tNot equal\t                 x != y\t\n",
    ">\tGreater than\t             x > y\t\n",
    "<\tLess than\t                 x < y\t\n",
    ">=\tGreater than or equal to\t x >= y\t\n",
    "<=\tLess than or equal to\t     x <= y"
   ]
  },
  {
   "cell_type": "markdown",
   "metadata": {},
   "source": [
    "logical operators"
   ]
  },
  {
   "cell_type": "code",
   "execution_count": null,
   "metadata": {},
   "outputs": [],
   "source": [
    "Operator\tDescription\tExample\t\n",
    "and \t#Returns True if both statements are true\t               x < 5 and  x < 10\t\n",
    "or\t#Returns True if one of the statements is true\t               x < 5 or x < 4\t\n",
    "not\t#Reverse the result, returns False if the result is true\tnot    (x < 5 and x < 10)"
   ]
  },
  {
   "cell_type": "markdown",
   "metadata": {},
   "source": [
    "identity operators"
   ]
  },
  {
   "cell_type": "code",
   "execution_count": null,
   "metadata": {},
   "outputs": [],
   "source": [
    "Operator\tDescription\tExample\n",
    "is \t#Returns True if both variables are the same object       \t  x is y\t\n",
    "is not\t#Returns True if both variables are not the same object\t  x is not y"
   ]
  },
  {
   "cell_type": "markdown",
   "metadata": {},
   "source": [
    "membership operators"
   ]
  },
  {
   "cell_type": "code",
   "execution_count": null,
   "metadata": {},
   "outputs": [],
   "source": [
    "Operator\tDescription\tExample\t\n",
    "in \t    #Returns True if a sequence with the specified value is present in the object\t    x in y\t\n",
    "not in\t#Returns True if a sequence with the specified value is not present in the object\tx not in y"
   ]
  }
 ],
 "metadata": {
  "language_info": {
   "name": "python"
  }
 },
 "nbformat": 4,
 "nbformat_minor": 2
}
