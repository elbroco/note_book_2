{
 "cells": [
  {
   "cell_type": "markdown",
   "metadata": {},
   "source": [
    "# Python Json\n",
    "\n",
    "JSON is a syntax for storing and exchanging data.\n",
    "\n",
    "JSON is text, written with JavaScript object notation."
   ]
  },
  {
   "cell_type": "code",
   "execution_count": 1,
   "metadata": {},
   "outputs": [
    {
     "name": "stdout",
     "output_type": "stream",
     "text": [
      "30\n"
     ]
    }
   ],
   "source": [
    "import json\n",
    "\n",
    "# parse json - convert from json to python\n",
    "\n",
    "\n",
    "# some JSON:\n",
    "x =  '{ \"name\":\"John\", \"age\":30, \"city\":\"New York\"}'\n",
    "\n",
    "# parse x:\n",
    "y = json.loads(x)\n",
    "\n",
    "# the result is a Python dictionary:\n",
    "print(y[\"age\"])"
   ]
  },
  {
   "cell_type": "code",
   "execution_count": 2,
   "metadata": {},
   "outputs": [
    {
     "name": "stdout",
     "output_type": "stream",
     "text": [
      "{\"name\": \"John\", \"age\": 30, \"city\": \"New York\"}\n"
     ]
    }
   ],
   "source": [
    "# CONVERT FROM PYTHON TO JSON\n",
    "\n",
    "# If you have a Python object, you can convert it into a JSON string by using the json.dumps() method.\n",
    "\n",
    "import json\n",
    "\n",
    "# a Python object (dict):\n",
    "x = {\n",
    "  \"name\": \"John\",\n",
    "  \"age\": 30,\n",
    "  \"city\": \"New York\"\n",
    "}\n",
    "\n",
    "# convert into JSON:\n",
    "y = json.dumps(x)\n",
    "\n",
    "# the result is a JSON string:\n",
    "print(y)"
   ]
  },
  {
   "cell_type": "code",
   "execution_count": 3,
   "metadata": {},
   "outputs": [
    {
     "name": "stdout",
     "output_type": "stream",
     "text": [
      "{\"name\": \"John\", \"age\": 30}\n",
      "[\"apple\", \"bananas\"]\n",
      "[\"apple\", \"bananas\"]\n",
      "\"hello\"\n",
      "42\n",
      "31.76\n",
      "true\n",
      "false\n",
      "null\n"
     ]
    }
   ],
   "source": [
    "# You can convert Python objects of the following types, into JSON strings:\n",
    "\n",
    "# dict\n",
    "# list\n",
    "# tuple\n",
    "# string\n",
    "# int\n",
    "# float\n",
    "# True\n",
    "# False\n",
    "# None\n",
    "\n",
    "#Convert Python objects into JSON strings, and print the values:\n",
    "\n",
    "import json\n",
    "\n",
    "print(json.dumps({\"name\": \"John\", \"age\": 30}))\n",
    "print(json.dumps([\"apple\", \"bananas\"]))\n",
    "print(json.dumps((\"apple\", \"bananas\")))\n",
    "print(json.dumps(\"hello\"))\n",
    "print(json.dumps(42))\n",
    "print(json.dumps(31.76))\n",
    "print(json.dumps(True))\n",
    "print(json.dumps(False))\n",
    "print(json.dumps(None))"
   ]
  },
  {
   "cell_type": "code",
   "execution_count": 7,
   "metadata": {},
   "outputs": [
    {
     "name": "stdout",
     "output_type": "stream",
     "text": [
      "{\"name\": \"John\", \"age\": 30, \"married\": true, \"divorced\": false, \"children\": [\"Ann\", \"Billy\"], \"pets\": null, \"cars\": [{\"model\": \"BMW 230\", \"mpg\": 27.5}, {\"model\": \"Ford Edge\", \"mpg\": 24.1}]}\n",
      "....................\n",
      "{\n",
      "    \"name\": \"John\",\n",
      "    \"age\": 30,\n",
      "    \"married\": true,\n",
      "    \"divorced\": false,\n",
      "    \"children\": [\n",
      "        \"Ann\",\n",
      "        \"Billy\"\n",
      "    ],\n",
      "    \"pets\": null,\n",
      "    \"cars\": [\n",
      "        {\n",
      "            \"model\": \"BMW 230\",\n",
      "            \"mpg\": 27.5\n",
      "        },\n",
      "        {\n",
      "            \"model\": \"Ford Edge\",\n",
      "            \"mpg\": 24.1\n",
      "        }\n",
      "    ]\n",
      "}\n",
      "....................\n",
      "{\n",
      "    \"name\" = \"John\". \n",
      "    \"age\" = 30. \n",
      "    \"married\" = true. \n",
      "    \"divorced\" = false. \n",
      "    \"children\" = [\n",
      "        \"Ann\". \n",
      "        \"Billy\"\n",
      "    ]. \n",
      "    \"pets\" = null. \n",
      "    \"cars\" = [\n",
      "        {\n",
      "            \"model\" = \"BMW 230\". \n",
      "            \"mpg\" = 27.5\n",
      "        }. \n",
      "        {\n",
      "            \"model\" = \"Ford Edge\". \n",
      "            \"mpg\" = 24.1\n",
      "        }\n",
      "    ]\n",
      "}\n",
      "....................\n",
      "{\n",
      "    \"age\": 30,\n",
      "    \"cars\": [\n",
      "        {\n",
      "            \"model\": \"BMW 230\",\n",
      "            \"mpg\": 27.5\n",
      "        },\n",
      "        {\n",
      "            \"model\": \"Ford Edge\",\n",
      "            \"mpg\": 24.1\n",
      "        }\n",
      "    ],\n",
      "    \"children\": [\n",
      "        \"Ann\",\n",
      "        \"Billy\"\n",
      "    ],\n",
      "    \"divorced\": false,\n",
      "    \"married\": true,\n",
      "    \"name\": \"John\",\n",
      "    \"pets\": null\n",
      "}\n"
     ]
    }
   ],
   "source": [
    "#Convert a Python object containing all the legal data types:\n",
    "\n",
    "import json\n",
    "\n",
    "x = {\n",
    "  \"name\": \"John\",\n",
    "  \"age\": 30,\n",
    "  \"married\": True,\n",
    "  \"divorced\": False,\n",
    "  \"children\": (\"Ann\",\"Billy\"),\n",
    "  \"pets\": None,\n",
    "  \"cars\": [\n",
    "    {\"model\": \"BMW 230\", \"mpg\": 27.5},\n",
    "    {\"model\": \"Ford Edge\", \"mpg\": 24.1}\n",
    "  ]\n",
    "}\n",
    "\n",
    "print(json.dumps(x))\n",
    "print('....................')\n",
    "\n",
    "# format the result\n",
    "#The example above prints a JSON string, but it is not very easy to read, with no indentations and line breaks.\n",
    "#The json.dumps() method has parameters to make it easier to read the result:\n",
    "#Use the indent parameter to define the numbers of indents:\n",
    "\n",
    "print(json.dumps(x, indent=4))\n",
    "print('....................')\n",
    "\n",
    "#You can also define the separators, default value is (\", \", \": \"), which means using a comma and a space to separate each object, and a colon and a space to separate keys from values:\n",
    "#Use the separators parameter to change the default separator:\n",
    "\n",
    "print(json.dumps(x, indent=4, separators=(\". \", \" = \")))\n",
    "print('....................')\n",
    "\n",
    "\n",
    "#Order the Result\n",
    "#The json.dumps() method has parameters to order the keys in the result:\n",
    "#Use the sort_keys parameter to specify if the result should be sorted or not:\n",
    "\n",
    "print(json.dumps(x, indent=4, sort_keys=True))\n",
    "\n"
   ]
  }
 ],
 "metadata": {
  "kernelspec": {
   "display_name": "Python 3",
   "language": "python",
   "name": "python3"
  },
  "language_info": {
   "codemirror_mode": {
    "name": "ipython",
    "version": 3
   },
   "file_extension": ".py",
   "mimetype": "text/x-python",
   "name": "python",
   "nbconvert_exporter": "python",
   "pygments_lexer": "ipython3",
   "version": "3.12.3"
  }
 },
 "nbformat": 4,
 "nbformat_minor": 2
}
