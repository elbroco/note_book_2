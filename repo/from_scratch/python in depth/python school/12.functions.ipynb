{
 "cells": [
  {
   "cell_type": "markdown",
   "metadata": {},
   "source": [
    "A function is a block of code which only runs when it is called.\n",
    "\n",
    "You can pass data, known as parameters, into a function.\n",
    "\n",
    "A function can return data as a result.\n",
    "\n"
   ]
  },
  {
   "cell_type": "code",
   "execution_count": null,
   "metadata": {},
   "outputs": [],
   "source": [
    "#CREATING A FUNCTION\n",
    "\n",
    "def my_function():\n",
    "  print(\"Hello from a function\")\n",
    "  \n",
    "#CALLING A FUNCTION\n",
    "\n",
    "my_function()"
   ]
  },
  {
   "cell_type": "markdown",
   "metadata": {},
   "source": [
    "ARGUMENTS"
   ]
  },
  {
   "cell_type": "markdown",
   "metadata": {},
   "source": [
    "Information can be passed into functions as arguments.\n",
    "\n",
    "Arguments are specified after the function name, inside the parentheses. You can add as many arguments as you want, just separate them with a comma.\n",
    "\n",
    "The following example has a function with one argument (fname). When the function is called, we pass along a first name, which is used inside the function to print the full name:"
   ]
  },
  {
   "cell_type": "code",
   "execution_count": null,
   "metadata": {},
   "outputs": [],
   "source": [
    "def my_function(fname):\n",
    "  print(fname + \" Refsnes\")\n",
    "\n",
    "my_function(\"Emil\")\n",
    "my_function(\"Tobias\")\n",
    "my_function(\"Linus\")\n",
    "\n",
    "print('')\n",
    "#NUMBER OF ARGUMENTS\n",
    "# By default, a function must be called with\n",
    "# the correct number of arguments. Meaning \n",
    "# that if your function expects 2 arguments,\n",
    "# you have to call the function with 2\n",
    "# arguments, not more, and not less.\n",
    "\n",
    "# This function expects 2 arguments,\n",
    "# and gets 2 arguments:\n",
    "\n",
    "def my_function(fname, lname):\n",
    "  print(fname + \" \" + lname)\n",
    "\n",
    "my_function(\"Emil\", \"Refsnes\")"
   ]
  },
  {
   "cell_type": "markdown",
   "metadata": {},
   "source": [
    "*ARGS"
   ]
  },
  {
   "cell_type": "code",
   "execution_count": null,
   "metadata": {},
   "outputs": [],
   "source": [
    "# If you do not know how many arguments \n",
    "# that will be passed into your function, add a * before the parameter name in the function definition.\n",
    "\n",
    "# This way the function will receive a tuple \n",
    "# of arguments, and can access the items accordingly:\n",
    "\n",
    "\n",
    "# If the number of arguments is unknown,\n",
    "# add a * before the parameter name:\n",
    "\n",
    "def my_function(*kids):\n",
    "  print(\"The youngest child is \" + kids[2])\n",
    "\n",
    "my_function(\"Emil\", \"Tobias\", \"Linus\")"
   ]
  },
  {
   "cell_type": "markdown",
   "metadata": {},
   "source": [
    "KEYWORD ARGS OR KWARGS"
   ]
  },
  {
   "cell_type": "code",
   "execution_count": null,
   "metadata": {},
   "outputs": [],
   "source": [
    "# Keyword Arguments\n",
    "# You can also send arguments with the \n",
    "# key = value syntax.\n",
    "\n",
    "# This way the order of the arguments\n",
    "# does not matter.\n",
    "\n",
    "\n",
    "def my_function(child3, child2, child1):\n",
    "  print(\"The youngest child is \" + child3)\n",
    "\n",
    "my_function(child1 = \"Emil\", child2 = \"Tobias\", child3 = \"Linus\")"
   ]
  },
  {
   "cell_type": "markdown",
   "metadata": {},
   "source": [
    "**KWARGS"
   ]
  },
  {
   "cell_type": "code",
   "execution_count": null,
   "metadata": {},
   "outputs": [],
   "source": [
    "#If you do not know how many keyword \n",
    "# arguments that will be passed into \n",
    "# your function, add two asterisk: ** before the\n",
    "# parameter name in the function definition.\n",
    "\n",
    "# This way the function will receive\n",
    "# a dictionary of arguments, and can\n",
    "# access the items accordingly:\n",
    "\n",
    "# If the number of keyword arguments\n",
    "# is unknown, add a double ** before\n",
    "# the parameter name:\n",
    "\n",
    "def my_function(**kid):\n",
    "  print(\"His last name is \" + kid[\"lname\"])\n",
    "\n",
    "my_function(fname = \"Tobias\", lname = \"Refsnes\")"
   ]
  },
  {
   "cell_type": "markdown",
   "metadata": {},
   "source": [
    "DEFAULT PARAMETERS"
   ]
  },
  {
   "cell_type": "code",
   "execution_count": null,
   "metadata": {},
   "outputs": [],
   "source": [
    "# If we call the function without argument,\n",
    "# it uses the default value:\n",
    "\n",
    "def my_function(country = \"Norway\"):\n",
    "  print(\"I am from \" + country)\n",
    "\n",
    "my_function(\"Sweden\")\n",
    "my_function(\"India\")\n",
    "my_function()\n",
    "my_function(\"Brazil\")"
   ]
  },
  {
   "cell_type": "markdown",
   "metadata": {},
   "source": [
    "PASSING A LIST AS AN ARGUMENT"
   ]
  },
  {
   "cell_type": "code",
   "execution_count": null,
   "metadata": {},
   "outputs": [],
   "source": [
    "#You can send any data types\n",
    "# of argument to a function \n",
    "# (string, number, list, dictionary etc.),\n",
    "# and it will be treated as the same data\n",
    "# type inside the function.\n",
    "\n",
    "# E.g. if you send a List as\n",
    "# an argument, it will still \n",
    "# be a List when it reaches the \n",
    "# function:\n",
    "\n",
    "def my_function(food):\n",
    "  for x in food:\n",
    "    print(x)\n",
    "\n",
    "fruits = [\"apple\", \"banana\", \"cherry\"]\n",
    "\n",
    "my_function(fruits)"
   ]
  },
  {
   "cell_type": "markdown",
   "metadata": {},
   "source": [
    "RETURN VALUES"
   ]
  },
  {
   "cell_type": "code",
   "execution_count": null,
   "metadata": {},
   "outputs": [],
   "source": [
    "# To let a function return a\n",
    "# value, use the return statement:\n",
    "\n",
    "def my_function(x):\n",
    "  return 5 * x\n",
    "\n",
    "print(my_function(3))\n",
    "print(my_function(5))\n",
    "print(my_function(9))"
   ]
  },
  {
   "cell_type": "markdown",
   "metadata": {},
   "source": [
    "PASS STATEMENT"
   ]
  },
  {
   "cell_type": "code",
   "execution_count": null,
   "metadata": {},
   "outputs": [],
   "source": [
    "# function definitions cannot be \n",
    "# empty, but if you for some reason\n",
    "# have a function definition with no\n",
    "# content, put in the pass statement \n",
    "# to avoid getting an error.\n",
    "\n",
    "\n",
    "def myfunction():\n",
    "  pass"
   ]
  },
  {
   "cell_type": "markdown",
   "metadata": {},
   "source": [
    "POSITIONAL-ONLY ARGUMENTS"
   ]
  },
  {
   "cell_type": "code",
   "execution_count": null,
   "metadata": {},
   "outputs": [],
   "source": [
    "# You can specify that a function \n",
    "# can have ONLY positional arguments,\n",
    "# or ONLY keyword arguments.\n",
    "\n",
    "# To specify that a function can have\n",
    "# only positional arguments, add , / after\n",
    "# the arguments:\n",
    "\n",
    "def my_function(x, /):\n",
    "  print(x)\n",
    "\n",
    "my_function(3)\n",
    "print('')\n",
    "\n",
    "\n",
    "# Without the , / you are actually\n",
    "# allowed to use keyword arguments\n",
    "# even if the function expects \n",
    "# positional arguments:\n",
    "\n",
    "def my_function(x):\n",
    "  print(x)\n",
    "\n",
    "my_function(x = 3)\n",
    "print('')\n",
    "\n",
    "# But when adding the , / you will\n",
    "# get an error if you try to send\n",
    "# a keyword argument:\n",
    "\n",
    "\n",
    "def my_function(x, /):\n",
    "  print(x)\n",
    "\n",
    "#my_function(x = 3)\n",
    "print('')\n",
    "\n",
    "\n",
    "# POSTIONAL ARGUMENTS \n",
    "# JUST THE 3\n",
    "\n",
    "# KEYWORD ARGUMENTS\n",
    "#  X = 3"
   ]
  },
  {
   "cell_type": "markdown",
   "metadata": {},
   "source": [
    "KEYWORD-ONLY ARGUMENTS"
   ]
  },
  {
   "cell_type": "code",
   "execution_count": 20,
   "metadata": {},
   "outputs": [
    {
     "name": "stdout",
     "output_type": "stream",
     "text": [
      "3\n",
      "\n",
      "3\n",
      "\n"
     ]
    }
   ],
   "source": [
    "# To specify that a function can \n",
    "# have only keyword arguments, add *,\n",
    "# before the arguments:\n",
    "\n",
    "\n",
    "def my_function(*, x):\n",
    "  print(x)\n",
    "\n",
    "my_function(x = 3)\n",
    "print('')\n",
    "\n",
    "# Without the *, you are \n",
    "# allowed to use positional\n",
    "# arguments even if the function \n",
    "# expects keyword arguments:\n",
    "\n",
    "\n",
    "def my_function(x):\n",
    "  print(x)\n",
    "\n",
    "my_function(3)\n",
    "print('')\n",
    "\n",
    "# But when adding the *, /\n",
    "# you will get an error if you\n",
    "# try to send a positional argument:\n",
    "\n",
    "\n",
    "def my_function(*, x):\n",
    "  print(x)\n",
    "\n",
    "# my_function(3)\n",
    "\n",
    "# POSTIONAL ARGUMENTS \n",
    "# JUST THE 3\n",
    "\n",
    "# KEYWORD ARGUMENTS\n",
    "#  X = 3"
   ]
  },
  {
   "cell_type": "markdown",
   "metadata": {},
   "source": [
    "COMBINE POSITIONAL-ONLY AND KEYWORD-ONLY"
   ]
  },
  {
   "cell_type": "code",
   "execution_count": 21,
   "metadata": {},
   "outputs": [
    {
     "name": "stdout",
     "output_type": "stream",
     "text": [
      "26\n"
     ]
    }
   ],
   "source": [
    "#You can combine the two argument\n",
    "# types in the same function.\n",
    "\n",
    "# Any argument before the / ,\n",
    "# are positional-only, and any\n",
    "# argument after the *, are keyword-only.\n",
    "\n",
    "\n",
    "def my_function(a, b, /, *, c, d):\n",
    "  print(a + b + c + d)\n",
    "\n",
    "my_function(5, 6, c = 7, d = 8)"
   ]
  },
  {
   "cell_type": "markdown",
   "metadata": {},
   "source": [
    "RECURSION"
   ]
  },
  {
   "cell_type": "markdown",
   "metadata": {},
   "source": [
    "Python also accepts function recursion, which means a defined function can call itself.\n",
    "\n",
    "Recursion is a common mathematical and programming concept. It means that a function calls itself. This has the benefit of meaning that you can loop through data to reach a result.\n",
    "\n",
    "The developer should be very careful with recursion as it can be quite easy to slip into writing a function which never terminates, or one that uses excess amounts of memory or processor power. However, when written correctly recursion can be a very efficient and mathematically-elegant approach to programming.\n",
    "\n",
    "In this example, tri_recursion() is a function that we have defined to call itself (\"recurse\"). We use the k variable as the data, which decrements (-1) every time we recurse. The recursion ends when the condition is not greater than 0 (i.e. when it is 0).\n",
    "\n",
    "To a new developer it can take some time to work out how exactly this works, best way to find out is by testing and modifying it."
   ]
  },
  {
   "cell_type": "code",
   "execution_count": 22,
   "metadata": {},
   "outputs": [
    {
     "name": "stdout",
     "output_type": "stream",
     "text": [
      "\n",
      "\n",
      "Recursion Example Results\n",
      "1\n",
      "3\n",
      "6\n",
      "10\n",
      "15\n",
      "21\n"
     ]
    },
    {
     "data": {
      "text/plain": [
       "21"
      ]
     },
     "execution_count": 22,
     "metadata": {},
     "output_type": "execute_result"
    }
   ],
   "source": [
    "def tri_recursion(k):\n",
    "  if(k > 0):\n",
    "    result = k + tri_recursion(k - 1)\n",
    "    print(result)\n",
    "  else:\n",
    "    result = 0\n",
    "  return result\n",
    "\n",
    "print(\"\\n\\nRecursion Example Results\")\n",
    "tri_recursion(6)"
   ]
  },
  {
   "cell_type": "markdown",
   "metadata": {},
   "source": [
    "PYTHON LAMBDA"
   ]
  },
  {
   "cell_type": "markdown",
   "metadata": {},
   "source": [
    "A lambda function is a small anonymous function.\n",
    "\n",
    "A lambda function can take any number of arguments, but can only have one expression."
   ]
  },
  {
   "cell_type": "code",
   "execution_count": 23,
   "metadata": {},
   "outputs": [
    {
     "name": "stdout",
     "output_type": "stream",
     "text": [
      "15\n",
      "\n",
      "30\n",
      "\n",
      "13\n",
      "\n"
     ]
    }
   ],
   "source": [
    "# SYNTAX\n",
    "\n",
    "# lambda arguments : expression\n",
    "# The expression is executed and the result is returned:\n",
    "\n",
    "# Add 10 to argument a, and return the result:\n",
    "\n",
    "\n",
    "x = lambda a : a + 10\n",
    "print(x(5))\n",
    "print('')\n",
    "\n",
    "# Lambda functions can take any number of arguments:\n",
    "# Multiply argument a with argument b and return \n",
    "# the result:\n",
    "\n",
    "\n",
    "x = lambda a, b : a * b\n",
    "print(x(5, 6))\n",
    "print('')\n",
    "\n",
    "\n",
    "# Summarize argument a, b, and c and return \n",
    "# the result:\n",
    "\n",
    "x = lambda a, b, c : a + b + c\n",
    "print(x(5, 6, 2))\n",
    "print('')\n"
   ]
  },
  {
   "cell_type": "code",
   "execution_count": null,
   "metadata": {},
   "outputs": [],
   "source": []
  }
 ],
 "metadata": {
  "kernelspec": {
   "display_name": "Python 3",
   "language": "python",
   "name": "python3"
  },
  "language_info": {
   "codemirror_mode": {
    "name": "ipython",
    "version": 3
   },
   "file_extension": ".py",
   "mimetype": "text/x-python",
   "name": "python",
   "nbconvert_exporter": "python",
   "pygments_lexer": "ipython3",
   "version": "3.12.3"
  }
 },
 "nbformat": 4,
 "nbformat_minor": 2
}
