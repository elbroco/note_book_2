{
 "cells": [
  {
   "cell_type": "markdown",
   "metadata": {},
   "source": [
    "# Python Inheritance\n",
    "Inheritance allows us to define a class that inherits all the methods and properties from another class.\n",
    "\n",
    "Parent class is the class being inherited from, also called base class.\n",
    "\n",
    "Child class is the class that inherits from another class, also called derived class."
   ]
  },
  {
   "cell_type": "code",
   "execution_count": 1,
   "metadata": {},
   "outputs": [
    {
     "name": "stdout",
     "output_type": "stream",
     "text": [
      "John Doe\n"
     ]
    }
   ],
   "source": [
    "# Create a Parent Class\n",
    "# Any class can be a parent class, so the syntax is the same as creating any other class:\n",
    "\n",
    "# Example\n",
    "# Create a class named Person, with firstname and lastname properties, and a printname method:\n",
    "\n",
    "class Person:\n",
    "  def __init__(self, fname, lname):\n",
    "    self.firstname = fname\n",
    "    self.lastname = lname\n",
    "\n",
    "  def printname(self):\n",
    "    print(self.firstname, self.lastname)\n",
    "\n",
    "#Use the Person class to create an object, and then execute the printname method:\n",
    "\n",
    "x = Person(\"John\", \"Doe\")\n",
    "x.printname()"
   ]
  },
  {
   "cell_type": "code",
   "execution_count": 2,
   "metadata": {},
   "outputs": [
    {
     "name": "stdout",
     "output_type": "stream",
     "text": [
      "Mike Olsen\n"
     ]
    }
   ],
   "source": [
    "# Create a Child Class\n",
    "# To create a class that inherits the functionality from another class, send the parent class as a parameter when creating the child class:\n",
    "\n",
    "# Example\n",
    "# Create a class named Student, which will inherit the properties and methods from the Person class:\n",
    "\n",
    "class Student(Person):\n",
    "  pass\n",
    "# Note: Use the pass keyword when you do not want to add any other properties or methods to the class.\n",
    "\n",
    "# Now the Student class has the same properties and methods as the Person class.\n",
    "\n",
    "# Example\n",
    "# Use the Student class to create an object, and then execute the printname method:\n",
    "\n",
    "x = Student(\"Mike\", \"Olsen\")\n",
    "x.printname()"
   ]
  },
  {
   "cell_type": "code",
   "execution_count": 5,
   "metadata": {},
   "outputs": [],
   "source": [
    "# Add the __init__() Function\n",
    "# So far we have created a child class that inherits the properties and methods from its parent.\n",
    "\n",
    "# We want to add the __init__() function to the child class (instead of the pass keyword).\n",
    "\n",
    "# Note: The __init__() function is called automatically every time the class is being used to create a new object.\n",
    "\n",
    "# Example\n",
    "# Add the __init__() function to the Student class:\n",
    "\n",
    "# class Student(Person):\n",
    "#   def __init__(self, fname, lname):\n",
    "#     #add properties etc.\n",
    "    \n",
    "# When you add the __init__() function, the child class will no longer inherit the parent's __init__() function.\n",
    "\n",
    "# Note: The child's __init__() function overrides the inheritance of the parent's __init__() function.\n",
    "\n",
    "# To keep the inheritance of the parent's __init__() function, add a call to the parent's __init__() function:\n",
    "\n",
    "# Example\n",
    "class Student(Person):\n",
    "  def __init__(self, fname, lname):\n",
    "    Person.__init__(self, fname, lname)\n",
    "# Now we have successfully added the __init__() function, and kept the inheritance of the parent class, and we are ready to add functionality in the __init__() function."
   ]
  },
  {
   "cell_type": "code",
   "execution_count": 6,
   "metadata": {},
   "outputs": [],
   "source": [
    "# Use the super() Function\n",
    "# Python also has a super() function that will make the child class inherit all the methods and properties from its parent:\n",
    "\n",
    "# Example\n",
    "class Student(Person):\n",
    "  def __init__(self, fname, lname):\n",
    "    super().__init__(fname, lname)\n",
    "# By using the super() function, you do not have to use the name of the parent element, it will automatically inherit the methods and properties from its parent.\n",
    "\n"
   ]
  },
  {
   "cell_type": "code",
   "execution_count": 10,
   "metadata": {},
   "outputs": [],
   "source": [
    "# Add Properties\n",
    "# Example\n",
    "# Add a property called graduationyear to the Student class:\n",
    "\n",
    "class Student(Person):\n",
    "  def __init__(self, fname, lname):\n",
    "    super().__init__(fname, lname)\n",
    "    self.graduationyear = 2019\n",
    "# In the example below, the year 2019 should be a variable, and passed into the Student class when creating student objects. To do so, add another parameter in the __init__() function:\n",
    "\n",
    "# Example\n",
    "# Add a year parameter, and pass the correct year when creating objects:\n",
    "\n",
    "class Student(Person):\n",
    "  def __init__(self, fname, lname, year):\n",
    "    super().__init__(fname, lname)\n",
    "    self.graduationyear = year\n",
    "\n",
    "x = Student(\"Mike\", \"Olsen\", 2019)"
   ]
  },
  {
   "cell_type": "code",
   "execution_count": 13,
   "metadata": {},
   "outputs": [
    {
     "name": "stdout",
     "output_type": "stream",
     "text": [
      "Welcome Mike Olsen to the class of 2019\n"
     ]
    }
   ],
   "source": [
    "# Add Methods\n",
    "# Example\n",
    "# Add a method called welcome to the Student class:\n",
    "\n",
    "class Student(Person):\n",
    "  def __init__(self, fname, lname, year):\n",
    "    super().__init__(fname, lname)\n",
    "    self.graduationyear = year\n",
    "\n",
    "  def welcome(self):\n",
    "    print(\"Welcome\", self.firstname, self.lastname, \"to the class of\", self.graduationyear)\n",
    "# If you add a method in the child class with the same name as a function in the parent class, the inheritance of the parent method will be overridden.\n",
    "x = Student(\"Mike\", \"Olsen\", 2019)\n",
    "x.welcome()"
   ]
  }
 ],
 "metadata": {
  "kernelspec": {
   "display_name": "Python 3",
   "language": "python",
   "name": "python3"
  },
  "language_info": {
   "codemirror_mode": {
    "name": "ipython",
    "version": 3
   },
   "file_extension": ".py",
   "mimetype": "text/x-python",
   "name": "python",
   "nbconvert_exporter": "python",
   "pygments_lexer": "ipython3",
   "version": "3.12.3"
  }
 },
 "nbformat": 4,
 "nbformat_minor": 2
}
