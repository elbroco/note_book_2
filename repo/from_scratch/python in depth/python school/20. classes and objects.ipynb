{
 "cells": [
  {
   "cell_type": "markdown",
   "metadata": {},
   "source": [
    "# Python Classes/Objects\n",
    "Python is an object oriented programming language.\n",
    "\n",
    "Almost everything in Python is an object, with its properties and methods.\n",
    "\n",
    "A Class is like an object constructor, or a \"blueprint\" for creating objects."
   ]
  },
  {
   "cell_type": "code",
   "execution_count": 1,
   "metadata": {},
   "outputs": [
    {
     "name": "stdout",
     "output_type": "stream",
     "text": [
      "5\n"
     ]
    }
   ],
   "source": [
    "#Create a class named MyClass, with a property named x:\n",
    "\n",
    "class MyClass:\n",
    "  x = 5\n",
    "  \n",
    "  \n",
    "  \n",
    "# Now we can use the class named MyClass to create objects:\n",
    "# Create an object named p1, and print the value of x:\n",
    "\n",
    "p1 = MyClass()\n",
    "print(p1.x)"
   ]
  },
  {
   "cell_type": "markdown",
   "metadata": {},
   "source": [
    "CONSTRUCTOR FUNCTION"
   ]
  },
  {
   "cell_type": "code",
   "execution_count": 2,
   "metadata": {},
   "outputs": [
    {
     "name": "stdout",
     "output_type": "stream",
     "text": [
      "John\n",
      "36\n"
     ]
    }
   ],
   "source": [
    "# The __init__() Function\n",
    "# The examples above are classes and objects in their simplest form, and are not really useful in real life applications.\n",
    "\n",
    "# To understand the meaning of classes we have to understand the built-in __init__() function.\n",
    "\n",
    "# All classes have a function called __init__(), which is always executed when the class is being initiated.\n",
    "\n",
    "# Use the __init__() function to assign values to object properties, or other operations that are necessary to do when the object is being created:\n",
    "\n",
    "# Example\n",
    "# Create a class named Person, use the __init__() function to assign values for name and age:\n",
    "\n",
    "class Person:\n",
    "  def __init__(self, name, age):\n",
    "    self.name = name\n",
    "    self.age = age\n",
    "\n",
    "p1 = Person(\"John\", 36)\n",
    "\n",
    "print(p1.name)\n",
    "print(p1.age)\n",
    "# Note: The __init__() function is called automatically every time the class is being used to create a new object."
   ]
  },
  {
   "cell_type": "code",
   "execution_count": 3,
   "metadata": {},
   "outputs": [
    {
     "name": "stdout",
     "output_type": "stream",
     "text": [
      "<__main__.Person object at 0x000001EDC60B1100>\n",
      "John(36)\n"
     ]
    }
   ],
   "source": [
    "# The __str__() Function\n",
    "# The __str__() function controls what should be returned when the class object is represented as a string.\n",
    "\n",
    "# If the __str__() function is not set, the string representation of the object is returned:\n",
    "\n",
    "# Example\n",
    "# The string representation of an object WITHOUT the __str__() function:\n",
    "\n",
    "class Person:\n",
    "  def __init__(self, name, age):\n",
    "    self.name = name\n",
    "    self.age = age\n",
    "\n",
    "p1 = Person(\"John\", 36)\n",
    "\n",
    "print(p1)\n",
    "# Example\n",
    "# The string representation of an object WITH the __str__() function:\n",
    "\n",
    "class Person:\n",
    "  def __init__(self, name, age):\n",
    "    self.name = name\n",
    "    self.age = age\n",
    "\n",
    "  def __str__(self):\n",
    "    return f\"{self.name}({self.age})\"\n",
    "\n",
    "p1 = Person(\"John\", 36)\n",
    "\n",
    "print(p1)"
   ]
  },
  {
   "cell_type": "code",
   "execution_count": 4,
   "metadata": {},
   "outputs": [
    {
     "name": "stdout",
     "output_type": "stream",
     "text": [
      "Hello my name is John\n"
     ]
    }
   ],
   "source": [
    "# Object Methods\n",
    "# Objects can also contain methods. Methods in objects are functions that belong to the object.\n",
    "\n",
    "# Let us create a method in the Person class:\n",
    "\n",
    "# Example\n",
    "# Insert a function that prints a greeting, and execute it on the p1 object:\n",
    "\n",
    "class Person:\n",
    "  def __init__(self, name, age):\n",
    "    self.name = name\n",
    "    self.age = age\n",
    "\n",
    "  def myfunc(self):\n",
    "    print(\"Hello my name is \" + self.name)\n",
    "\n",
    "p1 = Person(\"John\", 36)\n",
    "p1.myfunc()\n",
    "# Note: The self parameter is a reference to the current instance of the class, and is used to access variables that belong to the class."
   ]
  },
  {
   "cell_type": "code",
   "execution_count": 5,
   "metadata": {},
   "outputs": [
    {
     "name": "stdout",
     "output_type": "stream",
     "text": [
      "Hello my name is John\n"
     ]
    }
   ],
   "source": [
    "# The self Parameter\n",
    "# The self parameter is a reference to the current instance of the class, and is used to access variables that belongs to the class.\n",
    "\n",
    "# It does not have to be named self , you can call it whatever you like, but it has to be the first parameter of any function in the class:\n",
    "\n",
    "# Example\n",
    "# Use the words mysillyobject and abc instead of self:\n",
    "\n",
    "class Person:\n",
    "  def __init__(mysillyobject, name, age):\n",
    "    mysillyobject.name = name\n",
    "    mysillyobject.age = age\n",
    "\n",
    "  def myfunc(abc):\n",
    "    print(\"Hello my name is \" + abc.name)\n",
    "\n",
    "p1 = Person(\"John\", 36)\n",
    "p1.myfunc()\n",
    "\n",
    "\n",
    "\n",
    "\n"
   ]
  },
  {
   "cell_type": "code",
   "execution_count": null,
   "metadata": {},
   "outputs": [],
   "source": [
    "# Modify Object Properties\n",
    "# You can modify properties on objects like this:\n",
    "\n",
    "# Example\n",
    "# Set the age of p1 to 40:\n",
    "\n",
    "p1.age = 40\n",
    "\n",
    "\n",
    "# Delete Object Properties\n",
    "# You can delete properties on objects by using the del keyword:\n",
    "\n",
    "# Example\n",
    "# Delete the age property from the p1 object:\n",
    "\n",
    "del p1.age\n",
    "\n",
    "# The pass Statement\n",
    "# class definitions cannot be empty, but if you for some reason have a class definition with no content, put in the pass statement to avoid getting an error.\n",
    "\n",
    "# Example\n",
    "class Person:\n",
    "  pass"
   ]
  }
 ],
 "metadata": {
  "kernelspec": {
   "display_name": "Python 3",
   "language": "python",
   "name": "python3"
  },
  "language_info": {
   "codemirror_mode": {
    "name": "ipython",
    "version": 3
   },
   "file_extension": ".py",
   "mimetype": "text/x-python",
   "name": "python",
   "nbconvert_exporter": "python",
   "pygments_lexer": "ipython3",
   "version": "3.12.3"
  }
 },
 "nbformat": 4,
 "nbformat_minor": 2
}
