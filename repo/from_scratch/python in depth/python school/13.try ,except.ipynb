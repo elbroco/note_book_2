{
 "cells": [
  {
   "cell_type": "markdown",
   "metadata": {},
   "source": [
    "The 'try' block lets you test a block of code for errors.\n",
    "\n",
    "The  'except' block lets you handle the error.\n",
    "\n",
    "The 'else' block lets you execute code when there is no error.\n",
    "\n",
    "The 'finally' block lets you execute code, regardless of the result of the try- and except blocks."
   ]
  },
  {
   "cell_type": "markdown",
   "metadata": {},
   "source": [
    "EXCEPTION HANDLING"
   ]
  },
  {
   "cell_type": "code",
   "execution_count": null,
   "metadata": {},
   "outputs": [],
   "source": [
    "#TRY\n",
    "\n",
    "# When an error occurs,\n",
    "# or exception as we call\n",
    "# it, Python will normally\n",
    "# stop and generate an error\n",
    "# message.\n",
    "\n",
    "# These exceptions\n",
    "# can be handled using the try statement:\n",
    "\n",
    "\n",
    "# The try block will generate an exception,\n",
    "# because x is not defined:\n",
    "\n",
    "try:\n",
    "  print(x)\n",
    "except:\n",
    "  print(\"An exception occurred\")\n",
    "  \n",
    "print('')\n",
    "\n",
    "# Since the try block raises an error,\n",
    "# the except block will be executed.\n",
    "\n",
    "# Without the try block, the program\n",
    "# will crash and raise an error:\n",
    "\n",
    "# This statement will raise an error, \n",
    "# because x is not defined:\n",
    "\n",
    "print(x)\n",
    "\n",
    "\n"
   ]
  },
  {
   "cell_type": "code",
   "execution_count": null,
   "metadata": {},
   "outputs": [],
   "source": [
    "#Many Exceptions\n",
    "\n",
    "# You can define as many exception\n",
    "# blocks as you want, e.g. if you want \n",
    "# to execute a special block of code for\n",
    "# a special kind of error:\n",
    "\n",
    "\n",
    "# Print one message if the try block\n",
    "# raises a NameError and another for other errors:\n",
    "\n",
    "try:\n",
    "  print(x)\n",
    "except NameError:\n",
    "  print(\"Variable x is not defined\")\n",
    "except:\n",
    "  print(\"Something else went wrong\")"
   ]
  },
  {
   "cell_type": "code",
   "execution_count": null,
   "metadata": {},
   "outputs": [],
   "source": [
    "# Else\n",
    "# You can use the else keyword to define\n",
    "# a block of code to be executed if no \n",
    "# errors were raised:\n",
    "\n",
    "\n",
    "# In this example, the try block does not \n",
    "# generate any error:\n",
    "\n",
    "try:\n",
    "  print(\"Hello\")\n",
    "except:\n",
    "  print(\"Something went wrong\")\n",
    "else:\n",
    "  print(\"Nothing went wrong\")"
   ]
  },
  {
   "cell_type": "code",
   "execution_count": null,
   "metadata": {},
   "outputs": [],
   "source": [
    "# Finally\n",
    "# The finally block, if\n",
    "# specified, will be executed \n",
    "# regardless if the try block raises\n",
    "# an error or not.\n",
    "\n",
    "\n",
    "try:\n",
    "  print(x)\n",
    "except:\n",
    "  print(\"Something went wrong\")\n",
    "finally:\n",
    "  print(\"The 'try except' is finished\")\n",
    "  \n",
    "  print('')\n",
    "  \n",
    "# This can be useful to close objects and \n",
    "# clean up resources:\n",
    "\n",
    "\n",
    "# Try to open and write to a file that is not writable:\n",
    "\n",
    "try:\n",
    "  f = open(\"demofile.txt\")\n",
    "  try:\n",
    "    f.write(\"Lorum Ipsum\")\n",
    "  except:\n",
    "    print(\"Something went wrong when writing to the file\")\n",
    "  finally:\n",
    "    f.close()\n",
    "except:\n",
    "  print(\"Something went wrong when opening the file\")\n",
    "# The program can continue, without leaving the file object open."
   ]
  },
  {
   "cell_type": "markdown",
   "metadata": {},
   "source": [
    "RAISE AN EXCEPTION"
   ]
  },
  {
   "cell_type": "code",
   "execution_count": 9,
   "metadata": {},
   "outputs": [
    {
     "ename": "TypeError",
     "evalue": "Only integers are allowed",
     "output_type": "error",
     "traceback": [
      "\u001b[1;31m---------------------------------------------------------------------------\u001b[0m",
      "\u001b[1;31mTypeError\u001b[0m                                 Traceback (most recent call last)",
      "Cell \u001b[1;32mIn[9], line 29\u001b[0m\n\u001b[0;32m     26\u001b[0m x \u001b[38;5;241m=\u001b[39m \u001b[38;5;124m\"\u001b[39m\u001b[38;5;124mhello\u001b[39m\u001b[38;5;124m\"\u001b[39m\n\u001b[0;32m     28\u001b[0m \u001b[38;5;28;01mif\u001b[39;00m \u001b[38;5;129;01mnot\u001b[39;00m \u001b[38;5;28mtype\u001b[39m(x) \u001b[38;5;129;01mis\u001b[39;00m \u001b[38;5;28mint\u001b[39m:\n\u001b[1;32m---> 29\u001b[0m   \u001b[38;5;28;01mraise\u001b[39;00m \u001b[38;5;167;01mTypeError\u001b[39;00m(\u001b[38;5;124m\"\u001b[39m\u001b[38;5;124mOnly integers are allowed\u001b[39m\u001b[38;5;124m\"\u001b[39m)\n",
      "\u001b[1;31mTypeError\u001b[0m: Only integers are allowed"
     ]
    }
   ],
   "source": [
    "# As a Python developer \n",
    "# you can choose to throw an \n",
    "# exception if a condition occurs.\n",
    "\n",
    "# To throw (or raise) an \n",
    "# exception, use the raise keyword.\n",
    "\n",
    "\n",
    "# Raise an error and stop\n",
    "# the program if x is lower than 0:\n",
    "\n",
    "x = -1\n",
    "\n",
    "if x < 0:\n",
    "  raise Exception(\"Sorry, no numbers below zero\")\n",
    "\n",
    "# The raise keyword is used \n",
    "# to raise an exception.\n",
    "\n",
    "# You can define what kind of\n",
    "# error to raise, and the text to print to the user.\n",
    "\n",
    "\n",
    "# Raise a TypeError if x is not an integer:\n",
    "\n",
    "x = \"hello\"\n",
    "\n",
    "if not type(x) is int:\n",
    "  raise TypeError(\"Only integers are allowed\")"
   ]
  }
 ],
 "metadata": {
  "kernelspec": {
   "display_name": "Python 3",
   "language": "python",
   "name": "python3"
  },
  "language_info": {
   "codemirror_mode": {
    "name": "ipython",
    "version": 3
   },
   "file_extension": ".py",
   "mimetype": "text/x-python",
   "name": "python",
   "nbconvert_exporter": "python",
   "pygments_lexer": "ipython3",
   "version": "3.12.3"
  }
 },
 "nbformat": 4,
 "nbformat_minor": 2
}
