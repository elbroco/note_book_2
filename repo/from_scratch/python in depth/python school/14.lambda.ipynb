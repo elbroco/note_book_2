{
 "cells": [
  {
   "cell_type": "markdown",
   "metadata": {},
   "source": [
    "Why Use Lambda Functions?"
   ]
  },
  {
   "cell_type": "markdown",
   "metadata": {},
   "source": [
    "\n",
    "The power of lambda is better shown when you use them as an anonymous function inside another function.\n",
    "\n",
    "Say you have a function definition that takes one argument, and that argument will be multiplied with an unknown number:"
   ]
  },
  {
   "cell_type": "code",
   "execution_count": null,
   "metadata": {},
   "outputs": [],
   "source": [
    "def myfunc(n):\n",
    "  return lambda a : a * n\n",
    "\n",
    "print('')\n",
    "\n",
    "# Use that function definition\n",
    "# to make a function that always \n",
    "# doubles the number you send in:\n",
    "\n",
    "\n",
    "def myfunc(n):\n",
    "  return lambda a : a * n\n",
    "\n",
    "mydoubler = myfunc(2)\n",
    "\n",
    "print(mydoubler(11))\n",
    "print('')\n",
    "\n",
    "# Or, use the same function definition\n",
    "# to make a function that always triples\n",
    "# the number you send in:\n",
    "\n",
    "\n",
    "def myfunc(n):\n",
    "  return lambda a : a * n\n",
    "\n",
    "mytripler = myfunc(3)\n",
    "\n",
    "print(mytripler(11))\n",
    "print('')\n",
    "\n",
    "\n",
    "# Or, use the same function definition \n",
    "# to make both functions, in the same program:\n",
    "\n",
    "\n",
    "def myfunc(n):\n",
    "  return lambda a : a * n\n",
    "\n",
    "mydoubler = myfunc(2)\n",
    "mytripler = myfunc(3)\n",
    "\n",
    "print(mydoubler(11))\n",
    "print(mytripler(11))"
   ]
  },
  {
   "cell_type": "markdown",
   "metadata": {},
   "source": [
    "Use lambda functions when an anonymous function is required for a short period of time."
   ]
  }
 ],
 "metadata": {
  "language_info": {
   "name": "python"
  }
 },
 "nbformat": 4,
 "nbformat_minor": 2
}
